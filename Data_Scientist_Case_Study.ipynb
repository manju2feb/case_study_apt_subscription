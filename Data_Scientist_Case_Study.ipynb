{
 "cells": [
  {
   "cell_type": "markdown",
   "metadata": {},
   "source": [
    "### Case Study"
   ]
  },
  {
   "cell_type": "markdown",
   "metadata": {},
   "source": [
    "### Overall Data Summary: \n",
    "\n",
    "- There are 3500 Entries with 8 Columns. After removing the duplicate rows from the data the shape of data is now 3489, 8.  Subscriptions are evenly spread between different levels highlighting that the data is balanced.\n",
    "\n",
    "- 3 NA values in Subscription Level and 2810 NA values in has_online_tour.\n",
    "\n",
    "- There is no response for has_online_tour for Low vacancy_level.\n",
    "\n",
    "- Data is available only till June 2019.\n",
    "\n",
    "- Date of subscription is available from which year,month and day of the subscription have been extracted to check the effect of these variables on subscription level..\n",
    "\n",
    "- More subscriptions happen on Friday and Sunday.Subscriptions happen at the start of the month or at the end of the month. Higher level of subscription on Last quarter of the year may be due to holiday season.\n",
    "\n",
    "- City Id 152 has the most subscriptions.Generally on an average High lead volume results in high subscriptions but sometimes if photo quality is high it leads to high subscriptions even if the lead volume is low. \n",
    "\n",
    "- Due to High Photo Quality even Low Lead Volume is resulting in higher subscriptions for this city.\n",
    "\n",
    "- There is dependency between vacancy_level and photo quality. Also there is a dependency between vacancy level and lead volume.\n",
    "\n",
    "- Variable importance shows City_id,day,month as very important variable for subscription level"
   ]
  },
  {
   "cell_type": "code",
   "execution_count": 1,
   "metadata": {},
   "outputs": [],
   "source": [
    "##Import Libraries\n",
    "import pandas as pd\n",
    "import numpy as np\n",
    "\n",
    "import matplotlib.pyplot as plt\n",
    "import seaborn as sns\n",
    "\n",
    "from IPython.display import display\n",
    "\n",
    "from sklearn.model_selection import train_test_split\n",
    "from sklearn.preprocessing import MinMaxScaler\n",
    "\n",
    "from sklearn.linear_model import LinearRegression\n",
    "pd.set_option(\"display.max_columns\", None)\n",
    "pd.set_option('display.max_rows', None)\n",
    "from sklearn import metrics\n",
    "import warnings\n",
    "warnings.filterwarnings(\"ignore\")"
   ]
  },
  {
   "cell_type": "code",
   "execution_count": 2,
   "metadata": {},
   "outputs": [
    {
     "data": {
      "text/html": [
       "<div>\n",
       "<style scoped>\n",
       "    .dataframe tbody tr th:only-of-type {\n",
       "        vertical-align: middle;\n",
       "    }\n",
       "\n",
       "    .dataframe tbody tr th {\n",
       "        vertical-align: top;\n",
       "    }\n",
       "\n",
       "    .dataframe thead th {\n",
       "        text-align: right;\n",
       "    }\n",
       "</style>\n",
       "<table border=\"1\" class=\"dataframe\">\n",
       "  <thead>\n",
       "    <tr style=\"text-align: right;\">\n",
       "      <th></th>\n",
       "      <th>subscription_level</th>\n",
       "      <th>sign_up_date</th>\n",
       "      <th>building_type</th>\n",
       "      <th>vacancy_level</th>\n",
       "      <th>city_id</th>\n",
       "      <th>has_online_tour</th>\n",
       "      <th>photo_quality</th>\n",
       "      <th>lead_volume</th>\n",
       "    </tr>\n",
       "  </thead>\n",
       "  <tbody>\n",
       "    <tr>\n",
       "      <th>0</th>\n",
       "      <td>Level4</td>\n",
       "      <td>2016-07-24</td>\n",
       "      <td>low-rise</td>\n",
       "      <td>LOW</td>\n",
       "      <td>175</td>\n",
       "      <td>NaN</td>\n",
       "      <td>low</td>\n",
       "      <td>medium</td>\n",
       "    </tr>\n",
       "    <tr>\n",
       "      <th>1</th>\n",
       "      <td>Level9</td>\n",
       "      <td>2018-12-23</td>\n",
       "      <td>low-rise</td>\n",
       "      <td>LOW</td>\n",
       "      <td>193</td>\n",
       "      <td>NaN</td>\n",
       "      <td>high</td>\n",
       "      <td>medium</td>\n",
       "    </tr>\n",
       "    <tr>\n",
       "      <th>2</th>\n",
       "      <td>Level1</td>\n",
       "      <td>2016-12-02</td>\n",
       "      <td>low-rise</td>\n",
       "      <td>LOW</td>\n",
       "      <td>155</td>\n",
       "      <td>NaN</td>\n",
       "      <td>high</td>\n",
       "      <td>medium</td>\n",
       "    </tr>\n",
       "    <tr>\n",
       "      <th>3</th>\n",
       "      <td>Level4</td>\n",
       "      <td>2017-09-03</td>\n",
       "      <td>low-rise</td>\n",
       "      <td>LOW</td>\n",
       "      <td>155</td>\n",
       "      <td>NaN</td>\n",
       "      <td>low</td>\n",
       "      <td>medium</td>\n",
       "    </tr>\n",
       "    <tr>\n",
       "      <th>4</th>\n",
       "      <td>Level2</td>\n",
       "      <td>2016-07-29</td>\n",
       "      <td>low-rise</td>\n",
       "      <td>LOW</td>\n",
       "      <td>165</td>\n",
       "      <td>NaN</td>\n",
       "      <td>high</td>\n",
       "      <td>high</td>\n",
       "    </tr>\n",
       "  </tbody>\n",
       "</table>\n",
       "</div>"
      ],
      "text/plain": [
       "  subscription_level sign_up_date building_type vacancy_level  city_id  \\\n",
       "0             Level4   2016-07-24      low-rise           LOW      175   \n",
       "1             Level9   2018-12-23      low-rise           LOW      193   \n",
       "2             Level1   2016-12-02      low-rise           LOW      155   \n",
       "3             Level4   2017-09-03      low-rise           LOW      155   \n",
       "4             Level2   2016-07-29      low-rise           LOW      165   \n",
       "\n",
       "  has_online_tour photo_quality lead_volume  \n",
       "0             NaN           low      medium  \n",
       "1             NaN          high      medium  \n",
       "2             NaN          high      medium  \n",
       "3             NaN           low      medium  \n",
       "4             NaN          high        high  "
      ]
     },
     "execution_count": 2,
     "metadata": {},
     "output_type": "execute_result"
    }
   ],
   "source": [
    "##Read the data\n",
    "data = pd.read_excel('data_scientist_case_study.xlsx')\n",
    "data.head(5)"
   ]
  },
  {
   "cell_type": "markdown",
   "metadata": {},
   "source": [
    "### EDA"
   ]
  },
  {
   "cell_type": "code",
   "execution_count": 3,
   "metadata": {},
   "outputs": [
    {
     "name": "stdout",
     "output_type": "stream",
     "text": [
      "<class 'pandas.core.frame.DataFrame'>\n",
      "RangeIndex: 3500 entries, 0 to 3499\n",
      "Data columns (total 8 columns):\n",
      " #   Column              Non-Null Count  Dtype         \n",
      "---  ------              --------------  -----         \n",
      " 0   subscription_level  3497 non-null   object        \n",
      " 1   sign_up_date        3500 non-null   datetime64[ns]\n",
      " 2   building_type       3500 non-null   object        \n",
      " 3   vacancy_level       3500 non-null   object        \n",
      " 4   city_id             3500 non-null   int64         \n",
      " 5   has_online_tour     690 non-null    object        \n",
      " 6   photo_quality       3500 non-null   object        \n",
      " 7   lead_volume         3500 non-null   object        \n",
      "dtypes: datetime64[ns](1), int64(1), object(6)\n",
      "memory usage: 218.9+ KB\n"
     ]
    }
   ],
   "source": [
    "##Get the information abot the data\n",
    "data.info()"
   ]
  },
  {
   "cell_type": "code",
   "execution_count": 4,
   "metadata": {},
   "outputs": [
    {
     "data": {
      "text/plain": [
       "(3500, 8)"
      ]
     },
     "execution_count": 4,
     "metadata": {},
     "output_type": "execute_result"
    }
   ],
   "source": [
    "data.shape"
   ]
  },
  {
   "cell_type": "code",
   "execution_count": 5,
   "metadata": {},
   "outputs": [
    {
     "name": "stdout",
     "output_type": "stream",
     "text": [
      "subscription_level       3\n",
      "sign_up_date             0\n",
      "building_type            0\n",
      "vacancy_level            0\n",
      "city_id                  0\n",
      "has_online_tour       2810\n",
      "photo_quality            0\n",
      "lead_volume              0\n",
      "dtype: int64\n"
     ]
    }
   ],
   "source": [
    "###Find out the missing values in the data\n",
    "missingvalues=data.isna().sum()\n",
    "print(missingvalues)\n",
    "missingvalues = missingvalues.to_frame().reset_index()"
   ]
  },
  {
   "cell_type": "markdown",
   "metadata": {},
   "source": [
    "It is evident that there are 3 missing values in subscription_level and 2810 missing values in has_online_tour"
   ]
  },
  {
   "cell_type": "code",
   "execution_count": null,
   "metadata": {},
   "outputs": [],
   "source": [
    "# 'has_online_tour' has many missing values\n",
    "#************************************************\n",
    "#Assumption: has_online_tour is a newly introduced feature, and currently few users are comfortable using it,\n",
    "# maybe they need some more hints to get them comfortable using this feature.\n",
    "#***************************************************\n",
    "\n",
    "#can fill missing values here by imputation. One way to fill would be mode of has_online_tour\n",
    "#Other option is to convert those missing values to NA and now the column has three distinct values: yes, no and NA"
   ]
  },
  {
   "cell_type": "code",
   "execution_count": 6,
   "metadata": {},
   "outputs": [
    {
     "name": "stdout",
     "output_type": "stream",
     "text": [
      "Duplicate Rows :\n"
     ]
    },
    {
     "data": {
      "text/html": [
       "<div>\n",
       "<style scoped>\n",
       "    .dataframe tbody tr th:only-of-type {\n",
       "        vertical-align: middle;\n",
       "    }\n",
       "\n",
       "    .dataframe tbody tr th {\n",
       "        vertical-align: top;\n",
       "    }\n",
       "\n",
       "    .dataframe thead th {\n",
       "        text-align: right;\n",
       "    }\n",
       "</style>\n",
       "<table border=\"1\" class=\"dataframe\">\n",
       "  <thead>\n",
       "    <tr style=\"text-align: right;\">\n",
       "      <th></th>\n",
       "      <th>subscription_level</th>\n",
       "      <th>sign_up_date</th>\n",
       "      <th>building_type</th>\n",
       "      <th>vacancy_level</th>\n",
       "      <th>city_id</th>\n",
       "      <th>has_online_tour</th>\n",
       "      <th>photo_quality</th>\n",
       "      <th>lead_volume</th>\n",
       "    </tr>\n",
       "  </thead>\n",
       "  <tbody>\n",
       "    <tr>\n",
       "      <th>806</th>\n",
       "      <td>Level1</td>\n",
       "      <td>2016-11-05</td>\n",
       "      <td>mid-rise</td>\n",
       "      <td>LOW</td>\n",
       "      <td>165</td>\n",
       "      <td>NaN</td>\n",
       "      <td>low</td>\n",
       "      <td>high</td>\n",
       "    </tr>\n",
       "    <tr>\n",
       "      <th>1253</th>\n",
       "      <td>Level2</td>\n",
       "      <td>2016-09-03</td>\n",
       "      <td>low-rise</td>\n",
       "      <td>HIGH</td>\n",
       "      <td>152</td>\n",
       "      <td>no</td>\n",
       "      <td>high</td>\n",
       "      <td>high</td>\n",
       "    </tr>\n",
       "    <tr>\n",
       "      <th>1286</th>\n",
       "      <td>Level3</td>\n",
       "      <td>2017-04-25</td>\n",
       "      <td>mid-rise</td>\n",
       "      <td>LOW</td>\n",
       "      <td>152</td>\n",
       "      <td>NaN</td>\n",
       "      <td>high</td>\n",
       "      <td>medium</td>\n",
       "    </tr>\n",
       "    <tr>\n",
       "      <th>1887</th>\n",
       "      <td>Level4</td>\n",
       "      <td>2017-06-29</td>\n",
       "      <td>low-rise</td>\n",
       "      <td>LOW</td>\n",
       "      <td>152</td>\n",
       "      <td>NaN</td>\n",
       "      <td>high</td>\n",
       "      <td>medium</td>\n",
       "    </tr>\n",
       "    <tr>\n",
       "      <th>2214</th>\n",
       "      <td>Level7</td>\n",
       "      <td>2017-05-26</td>\n",
       "      <td>mid-rise</td>\n",
       "      <td>LOW</td>\n",
       "      <td>152</td>\n",
       "      <td>NaN</td>\n",
       "      <td>high</td>\n",
       "      <td>medium</td>\n",
       "    </tr>\n",
       "    <tr>\n",
       "      <th>2365</th>\n",
       "      <td>Level1</td>\n",
       "      <td>2017-01-05</td>\n",
       "      <td>low-rise</td>\n",
       "      <td>LOW</td>\n",
       "      <td>155</td>\n",
       "      <td>NaN</td>\n",
       "      <td>high</td>\n",
       "      <td>medium</td>\n",
       "    </tr>\n",
       "    <tr>\n",
       "      <th>2506</th>\n",
       "      <td>Level1</td>\n",
       "      <td>2017-07-28</td>\n",
       "      <td>low-rise</td>\n",
       "      <td>LOW</td>\n",
       "      <td>152</td>\n",
       "      <td>NaN</td>\n",
       "      <td>high</td>\n",
       "      <td>medium</td>\n",
       "    </tr>\n",
       "    <tr>\n",
       "      <th>2530</th>\n",
       "      <td>Level10</td>\n",
       "      <td>2017-08-25</td>\n",
       "      <td>low-rise</td>\n",
       "      <td>LOW</td>\n",
       "      <td>152</td>\n",
       "      <td>NaN</td>\n",
       "      <td>high</td>\n",
       "      <td>medium</td>\n",
       "    </tr>\n",
       "    <tr>\n",
       "      <th>2593</th>\n",
       "      <td>Level1</td>\n",
       "      <td>2017-10-27</td>\n",
       "      <td>low-rise</td>\n",
       "      <td>LOW</td>\n",
       "      <td>152</td>\n",
       "      <td>NaN</td>\n",
       "      <td>high</td>\n",
       "      <td>medium</td>\n",
       "    </tr>\n",
       "    <tr>\n",
       "      <th>2716</th>\n",
       "      <td>Level9</td>\n",
       "      <td>2018-06-24</td>\n",
       "      <td>low-rise</td>\n",
       "      <td>LOW</td>\n",
       "      <td>175</td>\n",
       "      <td>NaN</td>\n",
       "      <td>high</td>\n",
       "      <td>medium</td>\n",
       "    </tr>\n",
       "    <tr>\n",
       "      <th>3314</th>\n",
       "      <td>Level9</td>\n",
       "      <td>2018-10-02</td>\n",
       "      <td>low-rise</td>\n",
       "      <td>LOW</td>\n",
       "      <td>152</td>\n",
       "      <td>NaN</td>\n",
       "      <td>high</td>\n",
       "      <td>medium</td>\n",
       "    </tr>\n",
       "  </tbody>\n",
       "</table>\n",
       "</div>"
      ],
      "text/plain": [
       "     subscription_level sign_up_date building_type vacancy_level  city_id  \\\n",
       "806              Level1   2016-11-05      mid-rise           LOW      165   \n",
       "1253             Level2   2016-09-03      low-rise          HIGH      152   \n",
       "1286             Level3   2017-04-25      mid-rise           LOW      152   \n",
       "1887             Level4   2017-06-29      low-rise           LOW      152   \n",
       "2214             Level7   2017-05-26      mid-rise           LOW      152   \n",
       "2365             Level1   2017-01-05      low-rise           LOW      155   \n",
       "2506             Level1   2017-07-28      low-rise           LOW      152   \n",
       "2530            Level10   2017-08-25      low-rise           LOW      152   \n",
       "2593             Level1   2017-10-27      low-rise           LOW      152   \n",
       "2716             Level9   2018-06-24      low-rise           LOW      175   \n",
       "3314             Level9   2018-10-02      low-rise           LOW      152   \n",
       "\n",
       "     has_online_tour photo_quality lead_volume  \n",
       "806              NaN           low        high  \n",
       "1253              no          high        high  \n",
       "1286             NaN          high      medium  \n",
       "1887             NaN          high      medium  \n",
       "2214             NaN          high      medium  \n",
       "2365             NaN          high      medium  \n",
       "2506             NaN          high      medium  \n",
       "2530             NaN          high      medium  \n",
       "2593             NaN          high      medium  \n",
       "2716             NaN          high      medium  \n",
       "3314             NaN          high      medium  "
      ]
     },
     "execution_count": 6,
     "metadata": {},
     "output_type": "execute_result"
    }
   ],
   "source": [
    "##Find duplicate values in the dataset\n",
    "duplicate = data[data.duplicated()]\n",
    " \n",
    "print(\"Duplicate Rows :\")\n",
    "\n",
    "duplicate"
   ]
  },
  {
   "cell_type": "code",
   "execution_count": 7,
   "metadata": {},
   "outputs": [
    {
     "data": {
      "text/plain": [
       "(3489, 8)"
      ]
     },
     "execution_count": 7,
     "metadata": {},
     "output_type": "execute_result"
    }
   ],
   "source": [
    "##We can drop the duplicate values\n",
    "data.drop_duplicates(inplace=True)\n",
    "#Now check the shape of the data\n",
    "data.shape"
   ]
  },
  {
   "cell_type": "code",
   "execution_count": 8,
   "metadata": {},
   "outputs": [],
   "source": [
    "data['city_id'] = pd.Categorical(data.city_id)\n",
    "\n",
    "###Filter out relevent information from the date column like: year, day of week, weekend, day, month etc. \n",
    "data['day'] = data['sign_up_date'].dt.day\n",
    "data['dayofweek'] = data['sign_up_date'].dt.dayofweek\n",
    "data['dayofweek_name'] = data['sign_up_date'].dt.day_name()\n",
    "data['is_weekend'] = np.where(data['dayofweek_name'].isin(['Sunday','Saturday']),1,0)\n",
    "\n",
    "\n",
    "data['day'] = pd.Categorical(data.day)\n",
    "\n",
    "\n",
    "data['dayofweek_name'] = pd.Categorical(data.dayofweek_name)\n",
    "\n",
    "\n",
    "data['is_weekend'] = pd.Categorical(data.is_weekend)\n",
    "\n",
    "data = data.drop(['dayofweek'], axis = 1)\n",
    "\n",
    "data['month_of_date'] = data['sign_up_date'].dt.month\n",
    "data['month_of_date'] = pd.Categorical(data.month_of_date)\n",
    "\n",
    "data['year_of_date'] = data['sign_up_date'].dt.year\n",
    "data['year_of_date'] = pd.Categorical(data.year_of_date)\n",
    "\n",
    "##In the building type column convert low rise to low-rise now there will be only two distinct categories in this column\n",
    "data[\"building_type\"].replace({\"low rise\": \"low-rise\"}, inplace=True)\n",
    "##As \n",
    "data['has_online_tour'] = data['has_online_tour'].fillna('NA')\n",
    "data['subscription_level'] = data['subscription_level'].fillna('NA')"
   ]
  },
  {
   "cell_type": "code",
   "execution_count": 10,
   "metadata": {},
   "outputs": [
    {
     "name": "stdout",
     "output_type": "stream",
     "text": [
      "subscription_level\n",
      "11\n",
      "building_type\n",
      "2\n",
      "vacancy_level\n",
      "2\n",
      "has_online_tour\n",
      "3\n",
      "photo_quality\n",
      "2\n",
      "lead_volume\n",
      "2\n"
     ]
    }
   ],
   "source": [
    "data_ = data.select_dtypes('object')\n",
    "for col in data_.columns:\n",
    "    print(col) # to print categories name only\n",
    "    print(data_[col].nunique()) # to print count of every category"
   ]
  },
  {
   "cell_type": "code",
   "execution_count": 11,
   "metadata": {},
   "outputs": [
    {
     "data": {
      "text/html": [
       "<div>\n",
       "<style scoped>\n",
       "    .dataframe tbody tr th:only-of-type {\n",
       "        vertical-align: middle;\n",
       "    }\n",
       "\n",
       "    .dataframe tbody tr th {\n",
       "        vertical-align: top;\n",
       "    }\n",
       "\n",
       "    .dataframe thead th {\n",
       "        text-align: right;\n",
       "    }\n",
       "</style>\n",
       "<table border=\"1\" class=\"dataframe\">\n",
       "  <thead>\n",
       "    <tr style=\"text-align: right;\">\n",
       "      <th></th>\n",
       "      <th>subscription_level</th>\n",
       "      <th>sign_up_date</th>\n",
       "      <th>building_type</th>\n",
       "      <th>vacancy_level</th>\n",
       "      <th>city_id</th>\n",
       "      <th>has_online_tour</th>\n",
       "      <th>photo_quality</th>\n",
       "      <th>lead_volume</th>\n",
       "      <th>day</th>\n",
       "      <th>dayofweek_name</th>\n",
       "      <th>is_weekend</th>\n",
       "      <th>month_of_date</th>\n",
       "      <th>year_of_date</th>\n",
       "    </tr>\n",
       "  </thead>\n",
       "  <tbody>\n",
       "    <tr>\n",
       "      <th>0</th>\n",
       "      <td>Level4</td>\n",
       "      <td>2016-07-24</td>\n",
       "      <td>low-rise</td>\n",
       "      <td>LOW</td>\n",
       "      <td>175</td>\n",
       "      <td>NA</td>\n",
       "      <td>low</td>\n",
       "      <td>medium</td>\n",
       "      <td>24</td>\n",
       "      <td>Sunday</td>\n",
       "      <td>1</td>\n",
       "      <td>7</td>\n",
       "      <td>2016</td>\n",
       "    </tr>\n",
       "    <tr>\n",
       "      <th>1</th>\n",
       "      <td>Level9</td>\n",
       "      <td>2018-12-23</td>\n",
       "      <td>low-rise</td>\n",
       "      <td>LOW</td>\n",
       "      <td>193</td>\n",
       "      <td>NA</td>\n",
       "      <td>high</td>\n",
       "      <td>medium</td>\n",
       "      <td>23</td>\n",
       "      <td>Sunday</td>\n",
       "      <td>1</td>\n",
       "      <td>12</td>\n",
       "      <td>2018</td>\n",
       "    </tr>\n",
       "    <tr>\n",
       "      <th>2</th>\n",
       "      <td>Level1</td>\n",
       "      <td>2016-12-02</td>\n",
       "      <td>low-rise</td>\n",
       "      <td>LOW</td>\n",
       "      <td>155</td>\n",
       "      <td>NA</td>\n",
       "      <td>high</td>\n",
       "      <td>medium</td>\n",
       "      <td>2</td>\n",
       "      <td>Friday</td>\n",
       "      <td>0</td>\n",
       "      <td>12</td>\n",
       "      <td>2016</td>\n",
       "    </tr>\n",
       "    <tr>\n",
       "      <th>3</th>\n",
       "      <td>Level4</td>\n",
       "      <td>2017-09-03</td>\n",
       "      <td>low-rise</td>\n",
       "      <td>LOW</td>\n",
       "      <td>155</td>\n",
       "      <td>NA</td>\n",
       "      <td>low</td>\n",
       "      <td>medium</td>\n",
       "      <td>3</td>\n",
       "      <td>Sunday</td>\n",
       "      <td>1</td>\n",
       "      <td>9</td>\n",
       "      <td>2017</td>\n",
       "    </tr>\n",
       "    <tr>\n",
       "      <th>4</th>\n",
       "      <td>Level2</td>\n",
       "      <td>2016-07-29</td>\n",
       "      <td>low-rise</td>\n",
       "      <td>LOW</td>\n",
       "      <td>165</td>\n",
       "      <td>NA</td>\n",
       "      <td>high</td>\n",
       "      <td>high</td>\n",
       "      <td>29</td>\n",
       "      <td>Friday</td>\n",
       "      <td>0</td>\n",
       "      <td>7</td>\n",
       "      <td>2016</td>\n",
       "    </tr>\n",
       "  </tbody>\n",
       "</table>\n",
       "</div>"
      ],
      "text/plain": [
       "  subscription_level sign_up_date building_type vacancy_level city_id  \\\n",
       "0             Level4   2016-07-24      low-rise           LOW     175   \n",
       "1             Level9   2018-12-23      low-rise           LOW     193   \n",
       "2             Level1   2016-12-02      low-rise           LOW     155   \n",
       "3             Level4   2017-09-03      low-rise           LOW     155   \n",
       "4             Level2   2016-07-29      low-rise           LOW     165   \n",
       "\n",
       "  has_online_tour photo_quality lead_volume day dayofweek_name is_weekend  \\\n",
       "0              NA           low      medium  24         Sunday          1   \n",
       "1              NA          high      medium  23         Sunday          1   \n",
       "2              NA          high      medium   2         Friday          0   \n",
       "3              NA           low      medium   3         Sunday          1   \n",
       "4              NA          high        high  29         Friday          0   \n",
       "\n",
       "  month_of_date year_of_date  \n",
       "0             7         2016  \n",
       "1            12         2018  \n",
       "2            12         2016  \n",
       "3             9         2017  \n",
       "4             7         2016  "
      ]
     },
     "execution_count": 11,
     "metadata": {},
     "output_type": "execute_result"
    }
   ],
   "source": [
    "#Check the data again \n",
    "data.head(5)"
   ]
  },
  {
   "cell_type": "code",
   "execution_count": 12,
   "metadata": {},
   "outputs": [
    {
     "data": {
      "text/plain": [
       "subscription_level            object\n",
       "sign_up_date          datetime64[ns]\n",
       "building_type                 object\n",
       "vacancy_level                 object\n",
       "city_id                     category\n",
       "has_online_tour               object\n",
       "photo_quality                 object\n",
       "lead_volume                   object\n",
       "day                         category\n",
       "dayofweek_name              category\n",
       "is_weekend                  category\n",
       "month_of_date               category\n",
       "year_of_date                category\n",
       "dtype: object"
      ]
     },
     "execution_count": 12,
     "metadata": {},
     "output_type": "execute_result"
    }
   ],
   "source": [
    "data.dtypes"
   ]
  },
  {
   "cell_type": "markdown",
   "metadata": {},
   "source": [
    "### Visualization"
   ]
  },
  {
   "cell_type": "code",
   "execution_count": 13,
   "metadata": {},
   "outputs": [
    {
     "data": {
      "text/plain": [
       "<AxesSubplot:ylabel='subscription_level'>"
      ]
     },
     "execution_count": 13,
     "metadata": {},
     "output_type": "execute_result"
    },
    {
     "data": {
      "image/png": "[encoded data removed]",
      "text/plain": [
       "<Figure size 720x720 with 1 Axes>"
      ]
     },
     "metadata": {},
     "output_type": "display_data"
    }
   ],
   "source": [
    "#Check the distribution of each subscription level\n",
    "data.groupby(\"subscription_level\")[\"subscription_level\"].count().plot.pie(figsize=(10,10),autopct='%1.1f%%')"
   ]
  },
  {
   "cell_type": "code",
   "execution_count": 14,
   "metadata": {},
   "outputs": [
    {
     "data": {
      "text/plain": [
       "<AxesSubplot:xlabel='is_weekend', ylabel='count'>"
      ]
     },
     "execution_count": 14,
     "metadata": {},
     "output_type": "execute_result"
    },
    {
     "data": {
      "image/png": "[encoded data removed]",
      "text/plain": [
       "<Figure size 1080x720 with 12 Axes>"
      ]
     },
     "metadata": {
      "needs_background": "light"
     },
     "output_type": "display_data"
    }
   ],
   "source": [
    "fig = plt.figure(figsize = (15,10))\n",
    "\n",
    "ax1 = fig.add_subplot(6,2,1)\n",
    "sns.countplot(data = data, x = 'subscription_level', ax=ax1)\n",
    "\n",
    "ax2 = fig.add_subplot(6,2,2)\n",
    "sns.countplot(data = data, x = 'building_type', ax=ax2)\n",
    "\n",
    "ax3 = fig.add_subplot(6,2,3)\n",
    "sns.countplot(data = data, x = 'vacancy_level', ax=ax3)\n",
    "\n",
    "ax4 = fig.add_subplot(6,2,4)\n",
    "sns.countplot(data = data, x = 'city_id', ax=ax4)\n",
    "\n",
    "ax5 = fig.add_subplot(6,2,5)\n",
    "sns.countplot(data = data, x = 'has_online_tour', ax=ax5)\n",
    "\n",
    "ax6 = fig.add_subplot(6,2,6)\n",
    "sns.countplot(data = data, x = 'photo_quality', ax=ax6)\n",
    "\n",
    "ax7 = fig.add_subplot(6,2,7)\n",
    "sns.countplot(data = data, x = 'lead_volume', ax=ax7)\n",
    "\n",
    "ax8 = fig.add_subplot(6,2,8)\n",
    "sns.countplot(data = data, x = 'month_of_date', ax=ax8)\n",
    "\n",
    "ax9 = fig.add_subplot(6,2,9)\n",
    "sns.countplot(data = data, x = 'year_of_date', ax=ax9)\n",
    "\n",
    "ax10 = fig.add_subplot(6,2,10)\n",
    "sns.countplot(data = data, x = 'day', ax=ax10)\n",
    "\n",
    "ax11 = fig.add_subplot(6,2,11)\n",
    "sns.countplot(data = data, x = 'dayofweek_name', ax=ax11)\n",
    "\n",
    "ax12 = fig.add_subplot(6,2,12)\n",
    "sns.countplot(data = data, x = 'is_weekend', ax=ax12)\n"
   ]
  },
  {
   "cell_type": "markdown",
   "metadata": {},
   "source": [
    "###### More EDA on all variables to see the trends"
   ]
  },
  {
   "cell_type": "code",
   "execution_count": 15,
   "metadata": {},
   "outputs": [
    {
     "data": {
      "text/plain": [
       "month_of_date\n",
       "1     1\n",
       "2     5\n",
       "3     6\n",
       "4     4\n",
       "5     4\n",
       "6     5\n",
       "7     2\n",
       "8     3\n",
       "9     2\n",
       "10    4\n",
       "11    5\n",
       "12    1\n",
       "Name: year_of_date, dtype: int64"
      ]
     },
     "execution_count": 15,
     "metadata": {},
     "output_type": "execute_result"
    }
   ],
   "source": [
    "data[data['year_of_date'] == 2014].groupby('month_of_date')['year_of_date'].count()"
   ]
  },
  {
   "cell_type": "code",
   "execution_count": 16,
   "metadata": {},
   "outputs": [
    {
     "data": {
      "text/plain": [
       "month_of_date\n",
       "1     145\n",
       "2     106\n",
       "3     152\n",
       "4     106\n",
       "5     153\n",
       "6     112\n",
       "7     116\n",
       "8     119\n",
       "9      85\n",
       "10    126\n",
       "11    106\n",
       "12    117\n",
       "Name: year_of_date, dtype: int64"
      ]
     },
     "execution_count": 16,
     "metadata": {},
     "output_type": "execute_result"
    }
   ],
   "source": [
    "data[data['year_of_date'] == 2017].groupby('month_of_date')['year_of_date'].count()"
   ]
  },
  {
   "cell_type": "code",
   "execution_count": 17,
   "metadata": {},
   "outputs": [
    {
     "data": {
      "text/plain": [
       "month_of_date\n",
       "1     13\n",
       "2      1\n",
       "3      6\n",
       "4      3\n",
       "5      5\n",
       "6      1\n",
       "7      0\n",
       "8      0\n",
       "9      0\n",
       "10     0\n",
       "11     0\n",
       "12     0\n",
       "Name: year_of_date, dtype: int64"
      ]
     },
     "execution_count": 17,
     "metadata": {},
     "output_type": "execute_result"
    }
   ],
   "source": [
    "data[data['year_of_date'] == 2019].groupby('month_of_date')['year_of_date'].count()"
   ]
  },
  {
   "cell_type": "markdown",
   "metadata": {},
   "source": [
    "Data is available only till June 2019"
   ]
  },
  {
   "cell_type": "code",
   "execution_count": 18,
   "metadata": {},
   "outputs": [
    {
     "data": {
      "text/html": [
       "<div>\n",
       "<style scoped>\n",
       "    .dataframe tbody tr th:only-of-type {\n",
       "        vertical-align: middle;\n",
       "    }\n",
       "\n",
       "    .dataframe tbody tr th {\n",
       "        vertical-align: top;\n",
       "    }\n",
       "\n",
       "    .dataframe thead th {\n",
       "        text-align: right;\n",
       "    }\n",
       "</style>\n",
       "<table border=\"1\" class=\"dataframe\">\n",
       "  <thead>\n",
       "    <tr style=\"text-align: right;\">\n",
       "      <th>has_online_tour</th>\n",
       "      <th>NA</th>\n",
       "      <th>no</th>\n",
       "      <th>yes</th>\n",
       "    </tr>\n",
       "    <tr>\n",
       "      <th>vacancy_level</th>\n",
       "      <th></th>\n",
       "      <th></th>\n",
       "      <th></th>\n",
       "    </tr>\n",
       "  </thead>\n",
       "  <tbody>\n",
       "    <tr>\n",
       "      <th>HIGH</th>\n",
       "      <td>0</td>\n",
       "      <td>598</td>\n",
       "      <td>91</td>\n",
       "    </tr>\n",
       "    <tr>\n",
       "      <th>LOW</th>\n",
       "      <td>2800</td>\n",
       "      <td>0</td>\n",
       "      <td>0</td>\n",
       "    </tr>\n",
       "  </tbody>\n",
       "</table>\n",
       "</div>"
      ],
      "text/plain": [
       "has_online_tour    NA   no  yes\n",
       "vacancy_level                  \n",
       "HIGH                0  598   91\n",
       "LOW              2800    0    0"
      ]
     },
     "execution_count": 18,
     "metadata": {},
     "output_type": "execute_result"
    }
   ],
   "source": [
    "## Relationship between vacany_level and has_online_tour\n",
    "crosstab=pd.crosstab(data.vacancy_level,data.has_online_tour)\n",
    "crosstab"
   ]
  },
  {
   "cell_type": "markdown",
   "metadata": {},
   "source": [
    "#### There is no response for has_online_tour for Low vacancy_level"
   ]
  },
  {
   "cell_type": "code",
   "execution_count": 19,
   "metadata": {},
   "outputs": [
    {
     "data": {
      "text/html": [
       "<div>\n",
       "<style scoped>\n",
       "    .dataframe tbody tr th:only-of-type {\n",
       "        vertical-align: middle;\n",
       "    }\n",
       "\n",
       "    .dataframe tbody tr th {\n",
       "        vertical-align: top;\n",
       "    }\n",
       "\n",
       "    .dataframe thead th {\n",
       "        text-align: right;\n",
       "    }\n",
       "</style>\n",
       "<table border=\"1\" class=\"dataframe\">\n",
       "  <thead>\n",
       "    <tr style=\"text-align: right;\">\n",
       "      <th>subscription_level</th>\n",
       "      <th>Level1</th>\n",
       "      <th>Level10</th>\n",
       "      <th>Level2</th>\n",
       "      <th>Level3</th>\n",
       "      <th>Level4</th>\n",
       "      <th>Level5</th>\n",
       "      <th>Level6</th>\n",
       "      <th>Level7</th>\n",
       "      <th>Level8</th>\n",
       "      <th>Level9</th>\n",
       "      <th>NA</th>\n",
       "    </tr>\n",
       "    <tr>\n",
       "      <th>month_of_date</th>\n",
       "      <th></th>\n",
       "      <th></th>\n",
       "      <th></th>\n",
       "      <th></th>\n",
       "      <th></th>\n",
       "      <th></th>\n",
       "      <th></th>\n",
       "      <th></th>\n",
       "      <th></th>\n",
       "      <th></th>\n",
       "      <th></th>\n",
       "    </tr>\n",
       "  </thead>\n",
       "  <tbody>\n",
       "    <tr>\n",
       "      <th>1</th>\n",
       "      <td>28</td>\n",
       "      <td>23</td>\n",
       "      <td>26</td>\n",
       "      <td>25</td>\n",
       "      <td>29</td>\n",
       "      <td>34</td>\n",
       "      <td>25</td>\n",
       "      <td>23</td>\n",
       "      <td>29</td>\n",
       "      <td>24</td>\n",
       "      <td>1</td>\n",
       "    </tr>\n",
       "    <tr>\n",
       "      <th>2</th>\n",
       "      <td>22</td>\n",
       "      <td>12</td>\n",
       "      <td>27</td>\n",
       "      <td>25</td>\n",
       "      <td>24</td>\n",
       "      <td>20</td>\n",
       "      <td>19</td>\n",
       "      <td>20</td>\n",
       "      <td>21</td>\n",
       "      <td>28</td>\n",
       "      <td>0</td>\n",
       "    </tr>\n",
       "    <tr>\n",
       "      <th>3</th>\n",
       "      <td>29</td>\n",
       "      <td>34</td>\n",
       "      <td>27</td>\n",
       "      <td>35</td>\n",
       "      <td>23</td>\n",
       "      <td>31</td>\n",
       "      <td>36</td>\n",
       "      <td>34</td>\n",
       "      <td>37</td>\n",
       "      <td>22</td>\n",
       "      <td>1</td>\n",
       "    </tr>\n",
       "    <tr>\n",
       "      <th>4</th>\n",
       "      <td>24</td>\n",
       "      <td>29</td>\n",
       "      <td>20</td>\n",
       "      <td>22</td>\n",
       "      <td>25</td>\n",
       "      <td>17</td>\n",
       "      <td>24</td>\n",
       "      <td>29</td>\n",
       "      <td>22</td>\n",
       "      <td>16</td>\n",
       "      <td>0</td>\n",
       "    </tr>\n",
       "    <tr>\n",
       "      <th>5</th>\n",
       "      <td>23</td>\n",
       "      <td>24</td>\n",
       "      <td>31</td>\n",
       "      <td>24</td>\n",
       "      <td>24</td>\n",
       "      <td>31</td>\n",
       "      <td>22</td>\n",
       "      <td>23</td>\n",
       "      <td>32</td>\n",
       "      <td>30</td>\n",
       "      <td>0</td>\n",
       "    </tr>\n",
       "    <tr>\n",
       "      <th>6</th>\n",
       "      <td>21</td>\n",
       "      <td>26</td>\n",
       "      <td>19</td>\n",
       "      <td>21</td>\n",
       "      <td>28</td>\n",
       "      <td>19</td>\n",
       "      <td>22</td>\n",
       "      <td>23</td>\n",
       "      <td>17</td>\n",
       "      <td>30</td>\n",
       "      <td>0</td>\n",
       "    </tr>\n",
       "    <tr>\n",
       "      <th>7</th>\n",
       "      <td>28</td>\n",
       "      <td>25</td>\n",
       "      <td>34</td>\n",
       "      <td>30</td>\n",
       "      <td>31</td>\n",
       "      <td>29</td>\n",
       "      <td>34</td>\n",
       "      <td>25</td>\n",
       "      <td>20</td>\n",
       "      <td>33</td>\n",
       "      <td>0</td>\n",
       "    </tr>\n",
       "    <tr>\n",
       "      <th>8</th>\n",
       "      <td>29</td>\n",
       "      <td>31</td>\n",
       "      <td>35</td>\n",
       "      <td>43</td>\n",
       "      <td>23</td>\n",
       "      <td>38</td>\n",
       "      <td>43</td>\n",
       "      <td>26</td>\n",
       "      <td>32</td>\n",
       "      <td>45</td>\n",
       "      <td>0</td>\n",
       "    </tr>\n",
       "    <tr>\n",
       "      <th>9</th>\n",
       "      <td>37</td>\n",
       "      <td>23</td>\n",
       "      <td>38</td>\n",
       "      <td>41</td>\n",
       "      <td>26</td>\n",
       "      <td>23</td>\n",
       "      <td>25</td>\n",
       "      <td>37</td>\n",
       "      <td>23</td>\n",
       "      <td>29</td>\n",
       "      <td>0</td>\n",
       "    </tr>\n",
       "    <tr>\n",
       "      <th>10</th>\n",
       "      <td>34</td>\n",
       "      <td>36</td>\n",
       "      <td>46</td>\n",
       "      <td>42</td>\n",
       "      <td>33</td>\n",
       "      <td>39</td>\n",
       "      <td>31</td>\n",
       "      <td>46</td>\n",
       "      <td>31</td>\n",
       "      <td>49</td>\n",
       "      <td>1</td>\n",
       "    </tr>\n",
       "    <tr>\n",
       "      <th>11</th>\n",
       "      <td>43</td>\n",
       "      <td>43</td>\n",
       "      <td>24</td>\n",
       "      <td>30</td>\n",
       "      <td>27</td>\n",
       "      <td>43</td>\n",
       "      <td>24</td>\n",
       "      <td>33</td>\n",
       "      <td>35</td>\n",
       "      <td>35</td>\n",
       "      <td>0</td>\n",
       "    </tr>\n",
       "    <tr>\n",
       "      <th>12</th>\n",
       "      <td>28</td>\n",
       "      <td>29</td>\n",
       "      <td>30</td>\n",
       "      <td>33</td>\n",
       "      <td>36</td>\n",
       "      <td>26</td>\n",
       "      <td>29</td>\n",
       "      <td>28</td>\n",
       "      <td>32</td>\n",
       "      <td>45</td>\n",
       "      <td>0</td>\n",
       "    </tr>\n",
       "  </tbody>\n",
       "</table>\n",
       "</div>"
      ],
      "text/plain": [
       "subscription_level  Level1  Level10  Level2  Level3  Level4  Level5  Level6  \\\n",
       "month_of_date                                                                 \n",
       "1                       28       23      26      25      29      34      25   \n",
       "2                       22       12      27      25      24      20      19   \n",
       "3                       29       34      27      35      23      31      36   \n",
       "4                       24       29      20      22      25      17      24   \n",
       "5                       23       24      31      24      24      31      22   \n",
       "6                       21       26      19      21      28      19      22   \n",
       "7                       28       25      34      30      31      29      34   \n",
       "8                       29       31      35      43      23      38      43   \n",
       "9                       37       23      38      41      26      23      25   \n",
       "10                      34       36      46      42      33      39      31   \n",
       "11                      43       43      24      30      27      43      24   \n",
       "12                      28       29      30      33      36      26      29   \n",
       "\n",
       "subscription_level  Level7  Level8  Level9  NA  \n",
       "month_of_date                                   \n",
       "1                       23      29      24   1  \n",
       "2                       20      21      28   0  \n",
       "3                       34      37      22   1  \n",
       "4                       29      22      16   0  \n",
       "5                       23      32      30   0  \n",
       "6                       23      17      30   0  \n",
       "7                       25      20      33   0  \n",
       "8                       26      32      45   0  \n",
       "9                       37      23      29   0  \n",
       "10                      46      31      49   1  \n",
       "11                      33      35      35   0  \n",
       "12                      28      32      45   0  "
      ]
     },
     "execution_count": 19,
     "metadata": {},
     "output_type": "execute_result"
    }
   ],
   "source": [
    "crosstab=pd.crosstab(data.month_of_date,data.subscription_level)\n",
    "crosstab"
   ]
  },
  {
   "cell_type": "markdown",
   "metadata": {},
   "source": [
    "##### Higher level of subscription on Last quarter of the year"
   ]
  },
  {
   "cell_type": "code",
   "execution_count": 20,
   "metadata": {},
   "outputs": [
    {
     "data": {
      "text/html": [
       "<div>\n",
       "<style scoped>\n",
       "    .dataframe tbody tr th:only-of-type {\n",
       "        vertical-align: middle;\n",
       "    }\n",
       "\n",
       "    .dataframe tbody tr th {\n",
       "        vertical-align: top;\n",
       "    }\n",
       "\n",
       "    .dataframe thead th {\n",
       "        text-align: right;\n",
       "    }\n",
       "</style>\n",
       "<table border=\"1\" class=\"dataframe\">\n",
       "  <thead>\n",
       "    <tr style=\"text-align: right;\">\n",
       "      <th>subscription_level</th>\n",
       "      <th>Level1</th>\n",
       "      <th>Level10</th>\n",
       "      <th>Level2</th>\n",
       "      <th>Level3</th>\n",
       "      <th>Level4</th>\n",
       "      <th>Level5</th>\n",
       "      <th>Level6</th>\n",
       "      <th>Level7</th>\n",
       "      <th>Level8</th>\n",
       "      <th>Level9</th>\n",
       "      <th>NA</th>\n",
       "    </tr>\n",
       "    <tr>\n",
       "      <th>dayofweek_name</th>\n",
       "      <th></th>\n",
       "      <th></th>\n",
       "      <th></th>\n",
       "      <th></th>\n",
       "      <th></th>\n",
       "      <th></th>\n",
       "      <th></th>\n",
       "      <th></th>\n",
       "      <th></th>\n",
       "      <th></th>\n",
       "      <th></th>\n",
       "    </tr>\n",
       "  </thead>\n",
       "  <tbody>\n",
       "    <tr>\n",
       "      <th>Friday</th>\n",
       "      <td>52</td>\n",
       "      <td>55</td>\n",
       "      <td>64</td>\n",
       "      <td>54</td>\n",
       "      <td>55</td>\n",
       "      <td>60</td>\n",
       "      <td>62</td>\n",
       "      <td>43</td>\n",
       "      <td>51</td>\n",
       "      <td>59</td>\n",
       "      <td>0</td>\n",
       "    </tr>\n",
       "    <tr>\n",
       "      <th>Monday</th>\n",
       "      <td>45</td>\n",
       "      <td>51</td>\n",
       "      <td>47</td>\n",
       "      <td>49</td>\n",
       "      <td>44</td>\n",
       "      <td>43</td>\n",
       "      <td>47</td>\n",
       "      <td>46</td>\n",
       "      <td>51</td>\n",
       "      <td>53</td>\n",
       "      <td>0</td>\n",
       "    </tr>\n",
       "    <tr>\n",
       "      <th>Saturday</th>\n",
       "      <td>51</td>\n",
       "      <td>44</td>\n",
       "      <td>54</td>\n",
       "      <td>48</td>\n",
       "      <td>41</td>\n",
       "      <td>43</td>\n",
       "      <td>51</td>\n",
       "      <td>46</td>\n",
       "      <td>46</td>\n",
       "      <td>67</td>\n",
       "      <td>0</td>\n",
       "    </tr>\n",
       "    <tr>\n",
       "      <th>Sunday</th>\n",
       "      <td>61</td>\n",
       "      <td>54</td>\n",
       "      <td>53</td>\n",
       "      <td>59</td>\n",
       "      <td>55</td>\n",
       "      <td>42</td>\n",
       "      <td>40</td>\n",
       "      <td>65</td>\n",
       "      <td>46</td>\n",
       "      <td>52</td>\n",
       "      <td>1</td>\n",
       "    </tr>\n",
       "    <tr>\n",
       "      <th>Thursday</th>\n",
       "      <td>44</td>\n",
       "      <td>50</td>\n",
       "      <td>44</td>\n",
       "      <td>57</td>\n",
       "      <td>41</td>\n",
       "      <td>47</td>\n",
       "      <td>40</td>\n",
       "      <td>52</td>\n",
       "      <td>51</td>\n",
       "      <td>47</td>\n",
       "      <td>0</td>\n",
       "    </tr>\n",
       "    <tr>\n",
       "      <th>Tuesday</th>\n",
       "      <td>44</td>\n",
       "      <td>42</td>\n",
       "      <td>48</td>\n",
       "      <td>55</td>\n",
       "      <td>34</td>\n",
       "      <td>48</td>\n",
       "      <td>49</td>\n",
       "      <td>44</td>\n",
       "      <td>29</td>\n",
       "      <td>62</td>\n",
       "      <td>0</td>\n",
       "    </tr>\n",
       "    <tr>\n",
       "      <th>Wednesday</th>\n",
       "      <td>49</td>\n",
       "      <td>39</td>\n",
       "      <td>47</td>\n",
       "      <td>49</td>\n",
       "      <td>59</td>\n",
       "      <td>67</td>\n",
       "      <td>45</td>\n",
       "      <td>51</td>\n",
       "      <td>57</td>\n",
       "      <td>46</td>\n",
       "      <td>2</td>\n",
       "    </tr>\n",
       "  </tbody>\n",
       "</table>\n",
       "</div>"
      ],
      "text/plain": [
       "subscription_level  Level1  Level10  Level2  Level3  Level4  Level5  Level6  \\\n",
       "dayofweek_name                                                                \n",
       "Friday                  52       55      64      54      55      60      62   \n",
       "Monday                  45       51      47      49      44      43      47   \n",
       "Saturday                51       44      54      48      41      43      51   \n",
       "Sunday                  61       54      53      59      55      42      40   \n",
       "Thursday                44       50      44      57      41      47      40   \n",
       "Tuesday                 44       42      48      55      34      48      49   \n",
       "Wednesday               49       39      47      49      59      67      45   \n",
       "\n",
       "subscription_level  Level7  Level8  Level9  NA  \n",
       "dayofweek_name                                  \n",
       "Friday                  43      51      59   0  \n",
       "Monday                  46      51      53   0  \n",
       "Saturday                46      46      67   0  \n",
       "Sunday                  65      46      52   1  \n",
       "Thursday                52      51      47   0  \n",
       "Tuesday                 44      29      62   0  \n",
       "Wednesday               51      57      46   2  "
      ]
     },
     "execution_count": 20,
     "metadata": {},
     "output_type": "execute_result"
    }
   ],
   "source": [
    "crosstab=pd.crosstab(data.dayofweek_name,data.subscription_level)\n",
    "crosstab"
   ]
  },
  {
   "cell_type": "markdown",
   "metadata": {},
   "source": [
    "#### Friday and Sunday have more subscriptions than rest of days"
   ]
  },
  {
   "cell_type": "code",
   "execution_count": 21,
   "metadata": {},
   "outputs": [
    {
     "data": {
      "text/html": [
       "<div>\n",
       "<style scoped>\n",
       "    .dataframe tbody tr th:only-of-type {\n",
       "        vertical-align: middle;\n",
       "    }\n",
       "\n",
       "    .dataframe tbody tr th {\n",
       "        vertical-align: top;\n",
       "    }\n",
       "\n",
       "    .dataframe thead th {\n",
       "        text-align: right;\n",
       "    }\n",
       "</style>\n",
       "<table border=\"1\" class=\"dataframe\">\n",
       "  <thead>\n",
       "    <tr style=\"text-align: right;\">\n",
       "      <th>vacancy_level</th>\n",
       "      <th>HIGH</th>\n",
       "      <th>LOW</th>\n",
       "    </tr>\n",
       "    <tr>\n",
       "      <th>month_of_date</th>\n",
       "      <th></th>\n",
       "      <th></th>\n",
       "    </tr>\n",
       "  </thead>\n",
       "  <tbody>\n",
       "    <tr>\n",
       "      <th>1</th>\n",
       "      <td>0.224719</td>\n",
       "      <td>0.775281</td>\n",
       "    </tr>\n",
       "    <tr>\n",
       "      <th>2</th>\n",
       "      <td>0.188073</td>\n",
       "      <td>0.811927</td>\n",
       "    </tr>\n",
       "    <tr>\n",
       "      <th>3</th>\n",
       "      <td>0.200647</td>\n",
       "      <td>0.799353</td>\n",
       "    </tr>\n",
       "    <tr>\n",
       "      <th>4</th>\n",
       "      <td>0.192982</td>\n",
       "      <td>0.807018</td>\n",
       "    </tr>\n",
       "    <tr>\n",
       "      <th>5</th>\n",
       "      <td>0.170455</td>\n",
       "      <td>0.829545</td>\n",
       "    </tr>\n",
       "    <tr>\n",
       "      <th>6</th>\n",
       "      <td>0.207965</td>\n",
       "      <td>0.792035</td>\n",
       "    </tr>\n",
       "    <tr>\n",
       "      <th>7</th>\n",
       "      <td>0.190311</td>\n",
       "      <td>0.809689</td>\n",
       "    </tr>\n",
       "    <tr>\n",
       "      <th>8</th>\n",
       "      <td>0.205797</td>\n",
       "      <td>0.794203</td>\n",
       "    </tr>\n",
       "    <tr>\n",
       "      <th>9</th>\n",
       "      <td>0.201987</td>\n",
       "      <td>0.798013</td>\n",
       "    </tr>\n",
       "    <tr>\n",
       "      <th>10</th>\n",
       "      <td>0.201031</td>\n",
       "      <td>0.798969</td>\n",
       "    </tr>\n",
       "    <tr>\n",
       "      <th>11</th>\n",
       "      <td>0.210682</td>\n",
       "      <td>0.789318</td>\n",
       "    </tr>\n",
       "    <tr>\n",
       "      <th>12</th>\n",
       "      <td>0.170886</td>\n",
       "      <td>0.829114</td>\n",
       "    </tr>\n",
       "  </tbody>\n",
       "</table>\n",
       "</div>"
      ],
      "text/plain": [
       "vacancy_level      HIGH       LOW\n",
       "month_of_date                    \n",
       "1              0.224719  0.775281\n",
       "2              0.188073  0.811927\n",
       "3              0.200647  0.799353\n",
       "4              0.192982  0.807018\n",
       "5              0.170455  0.829545\n",
       "6              0.207965  0.792035\n",
       "7              0.190311  0.809689\n",
       "8              0.205797  0.794203\n",
       "9              0.201987  0.798013\n",
       "10             0.201031  0.798969\n",
       "11             0.210682  0.789318\n",
       "12             0.170886  0.829114"
      ]
     },
     "execution_count": 21,
     "metadata": {},
     "output_type": "execute_result"
    }
   ],
   "source": [
    "crosstab=pd.crosstab(data.month_of_date,data.vacancy_level,normalize='index')\n",
    "crosstab"
   ]
  },
  {
   "cell_type": "code",
   "execution_count": 22,
   "metadata": {},
   "outputs": [
    {
     "data": {
      "text/html": [
       "<div>\n",
       "<style scoped>\n",
       "    .dataframe tbody tr th:only-of-type {\n",
       "        vertical-align: middle;\n",
       "    }\n",
       "\n",
       "    .dataframe tbody tr th {\n",
       "        vertical-align: top;\n",
       "    }\n",
       "\n",
       "    .dataframe thead th {\n",
       "        text-align: right;\n",
       "    }\n",
       "</style>\n",
       "<table border=\"1\" class=\"dataframe\">\n",
       "  <thead>\n",
       "    <tr style=\"text-align: right;\">\n",
       "      <th>vacancy_level</th>\n",
       "      <th>HIGH</th>\n",
       "      <th>LOW</th>\n",
       "    </tr>\n",
       "    <tr>\n",
       "      <th>dayofweek_name</th>\n",
       "      <th></th>\n",
       "      <th></th>\n",
       "    </tr>\n",
       "  </thead>\n",
       "  <tbody>\n",
       "    <tr>\n",
       "      <th>Friday</th>\n",
       "      <td>0.192793</td>\n",
       "      <td>0.807207</td>\n",
       "    </tr>\n",
       "    <tr>\n",
       "      <th>Monday</th>\n",
       "      <td>0.210084</td>\n",
       "      <td>0.789916</td>\n",
       "    </tr>\n",
       "    <tr>\n",
       "      <th>Saturday</th>\n",
       "      <td>0.173116</td>\n",
       "      <td>0.826884</td>\n",
       "    </tr>\n",
       "    <tr>\n",
       "      <th>Sunday</th>\n",
       "      <td>0.193182</td>\n",
       "      <td>0.806818</td>\n",
       "    </tr>\n",
       "    <tr>\n",
       "      <th>Thursday</th>\n",
       "      <td>0.202960</td>\n",
       "      <td>0.797040</td>\n",
       "    </tr>\n",
       "    <tr>\n",
       "      <th>Tuesday</th>\n",
       "      <td>0.184615</td>\n",
       "      <td>0.815385</td>\n",
       "    </tr>\n",
       "    <tr>\n",
       "      <th>Wednesday</th>\n",
       "      <td>0.225049</td>\n",
       "      <td>0.774951</td>\n",
       "    </tr>\n",
       "  </tbody>\n",
       "</table>\n",
       "</div>"
      ],
      "text/plain": [
       "vacancy_level       HIGH       LOW\n",
       "dayofweek_name                    \n",
       "Friday          0.192793  0.807207\n",
       "Monday          0.210084  0.789916\n",
       "Saturday        0.173116  0.826884\n",
       "Sunday          0.193182  0.806818\n",
       "Thursday        0.202960  0.797040\n",
       "Tuesday         0.184615  0.815385\n",
       "Wednesday       0.225049  0.774951"
      ]
     },
     "execution_count": 22,
     "metadata": {},
     "output_type": "execute_result"
    }
   ],
   "source": [
    "crosstab=pd.crosstab(data.dayofweek_name,data.vacancy_level,normalize='index')\n",
    "crosstab"
   ]
  },
  {
   "cell_type": "code",
   "execution_count": 23,
   "metadata": {},
   "outputs": [
    {
     "data": {
      "text/html": [
       "<div>\n",
       "<style scoped>\n",
       "    .dataframe tbody tr th:only-of-type {\n",
       "        vertical-align: middle;\n",
       "    }\n",
       "\n",
       "    .dataframe tbody tr th {\n",
       "        vertical-align: top;\n",
       "    }\n",
       "\n",
       "    .dataframe thead th {\n",
       "        text-align: right;\n",
       "    }\n",
       "</style>\n",
       "<table border=\"1\" class=\"dataframe\">\n",
       "  <thead>\n",
       "    <tr style=\"text-align: right;\">\n",
       "      <th>lead_volume</th>\n",
       "      <th>high</th>\n",
       "      <th>medium</th>\n",
       "    </tr>\n",
       "    <tr>\n",
       "      <th>dayofweek_name</th>\n",
       "      <th></th>\n",
       "      <th></th>\n",
       "    </tr>\n",
       "  </thead>\n",
       "  <tbody>\n",
       "    <tr>\n",
       "      <th>Friday</th>\n",
       "      <td>0.461261</td>\n",
       "      <td>0.538739</td>\n",
       "    </tr>\n",
       "    <tr>\n",
       "      <th>Monday</th>\n",
       "      <td>0.521008</td>\n",
       "      <td>0.478992</td>\n",
       "    </tr>\n",
       "    <tr>\n",
       "      <th>Saturday</th>\n",
       "      <td>0.482688</td>\n",
       "      <td>0.517312</td>\n",
       "    </tr>\n",
       "    <tr>\n",
       "      <th>Sunday</th>\n",
       "      <td>0.488636</td>\n",
       "      <td>0.511364</td>\n",
       "    </tr>\n",
       "    <tr>\n",
       "      <th>Thursday</th>\n",
       "      <td>0.511628</td>\n",
       "      <td>0.488372</td>\n",
       "    </tr>\n",
       "    <tr>\n",
       "      <th>Tuesday</th>\n",
       "      <td>0.490110</td>\n",
       "      <td>0.509890</td>\n",
       "    </tr>\n",
       "    <tr>\n",
       "      <th>Wednesday</th>\n",
       "      <td>0.487280</td>\n",
       "      <td>0.512720</td>\n",
       "    </tr>\n",
       "  </tbody>\n",
       "</table>\n",
       "</div>"
      ],
      "text/plain": [
       "lead_volume         high    medium\n",
       "dayofweek_name                    \n",
       "Friday          0.461261  0.538739\n",
       "Monday          0.521008  0.478992\n",
       "Saturday        0.482688  0.517312\n",
       "Sunday          0.488636  0.511364\n",
       "Thursday        0.511628  0.488372\n",
       "Tuesday         0.490110  0.509890\n",
       "Wednesday       0.487280  0.512720"
      ]
     },
     "execution_count": 23,
     "metadata": {},
     "output_type": "execute_result"
    }
   ],
   "source": [
    "crosstab=pd.crosstab(data.dayofweek_name,data.lead_volume,normalize='index')\n",
    "crosstab"
   ]
  },
  {
   "cell_type": "code",
   "execution_count": 24,
   "metadata": {},
   "outputs": [
    {
     "data": {
      "text/html": [
       "<div>\n",
       "<style scoped>\n",
       "    .dataframe tbody tr th:only-of-type {\n",
       "        vertical-align: middle;\n",
       "    }\n",
       "\n",
       "    .dataframe tbody tr th {\n",
       "        vertical-align: top;\n",
       "    }\n",
       "\n",
       "    .dataframe thead th {\n",
       "        text-align: right;\n",
       "    }\n",
       "</style>\n",
       "<table border=\"1\" class=\"dataframe\">\n",
       "  <thead>\n",
       "    <tr style=\"text-align: right;\">\n",
       "      <th>lead_volume</th>\n",
       "      <th>high</th>\n",
       "      <th>medium</th>\n",
       "    </tr>\n",
       "    <tr>\n",
       "      <th>month_of_date</th>\n",
       "      <th></th>\n",
       "      <th></th>\n",
       "    </tr>\n",
       "  </thead>\n",
       "  <tbody>\n",
       "    <tr>\n",
       "      <th>1</th>\n",
       "      <td>0.471910</td>\n",
       "      <td>0.528090</td>\n",
       "    </tr>\n",
       "    <tr>\n",
       "      <th>2</th>\n",
       "      <td>0.504587</td>\n",
       "      <td>0.495413</td>\n",
       "    </tr>\n",
       "    <tr>\n",
       "      <th>3</th>\n",
       "      <td>0.488673</td>\n",
       "      <td>0.511327</td>\n",
       "    </tr>\n",
       "    <tr>\n",
       "      <th>4</th>\n",
       "      <td>0.517544</td>\n",
       "      <td>0.482456</td>\n",
       "    </tr>\n",
       "    <tr>\n",
       "      <th>5</th>\n",
       "      <td>0.488636</td>\n",
       "      <td>0.511364</td>\n",
       "    </tr>\n",
       "    <tr>\n",
       "      <th>6</th>\n",
       "      <td>0.504425</td>\n",
       "      <td>0.495575</td>\n",
       "    </tr>\n",
       "    <tr>\n",
       "      <th>7</th>\n",
       "      <td>0.439446</td>\n",
       "      <td>0.560554</td>\n",
       "    </tr>\n",
       "    <tr>\n",
       "      <th>8</th>\n",
       "      <td>0.521739</td>\n",
       "      <td>0.478261</td>\n",
       "    </tr>\n",
       "    <tr>\n",
       "      <th>9</th>\n",
       "      <td>0.513245</td>\n",
       "      <td>0.486755</td>\n",
       "    </tr>\n",
       "    <tr>\n",
       "      <th>10</th>\n",
       "      <td>0.474227</td>\n",
       "      <td>0.525773</td>\n",
       "    </tr>\n",
       "    <tr>\n",
       "      <th>11</th>\n",
       "      <td>0.507418</td>\n",
       "      <td>0.492582</td>\n",
       "    </tr>\n",
       "    <tr>\n",
       "      <th>12</th>\n",
       "      <td>0.468354</td>\n",
       "      <td>0.531646</td>\n",
       "    </tr>\n",
       "  </tbody>\n",
       "</table>\n",
       "</div>"
      ],
      "text/plain": [
       "lead_volume        high    medium\n",
       "month_of_date                    \n",
       "1              0.471910  0.528090\n",
       "2              0.504587  0.495413\n",
       "3              0.488673  0.511327\n",
       "4              0.517544  0.482456\n",
       "5              0.488636  0.511364\n",
       "6              0.504425  0.495575\n",
       "7              0.439446  0.560554\n",
       "8              0.521739  0.478261\n",
       "9              0.513245  0.486755\n",
       "10             0.474227  0.525773\n",
       "11             0.507418  0.492582\n",
       "12             0.468354  0.531646"
      ]
     },
     "execution_count": 24,
     "metadata": {},
     "output_type": "execute_result"
    }
   ],
   "source": [
    "crosstab=pd.crosstab(data.month_of_date,data.lead_volume,normalize='index')\n",
    "crosstab"
   ]
  },
  {
   "cell_type": "markdown",
   "metadata": {},
   "source": [
    "#### Effect of photo Quality"
   ]
  },
  {
   "cell_type": "code",
   "execution_count": 25,
   "metadata": {},
   "outputs": [
    {
     "data": {
      "text/plain": [
       "photo_quality\n",
       "high    416\n",
       "low     169\n",
       "Name: subscription_level, dtype: int64"
      ]
     },
     "execution_count": 25,
     "metadata": {},
     "output_type": "execute_result"
    }
   ],
   "source": [
    "data[data['city_id'] == 152].groupby('photo_quality')['subscription_level'].count()"
   ]
  },
  {
   "cell_type": "code",
   "execution_count": 26,
   "metadata": {},
   "outputs": [
    {
     "data": {
      "text/html": [
       "<div>\n",
       "<style scoped>\n",
       "    .dataframe tbody tr th:only-of-type {\n",
       "        vertical-align: middle;\n",
       "    }\n",
       "\n",
       "    .dataframe tbody tr th {\n",
       "        vertical-align: top;\n",
       "    }\n",
       "\n",
       "    .dataframe thead th {\n",
       "        text-align: right;\n",
       "    }\n",
       "</style>\n",
       "<table border=\"1\" class=\"dataframe\">\n",
       "  <thead>\n",
       "    <tr style=\"text-align: right;\">\n",
       "      <th>city_id</th>\n",
       "      <th>103</th>\n",
       "      <th>105</th>\n",
       "      <th>123</th>\n",
       "      <th>130</th>\n",
       "      <th>138</th>\n",
       "      <th>141</th>\n",
       "      <th>152</th>\n",
       "      <th>154</th>\n",
       "      <th>155</th>\n",
       "      <th>160</th>\n",
       "      <th>162</th>\n",
       "      <th>165</th>\n",
       "      <th>169</th>\n",
       "      <th>175</th>\n",
       "      <th>176</th>\n",
       "      <th>178</th>\n",
       "      <th>179</th>\n",
       "      <th>180</th>\n",
       "      <th>182</th>\n",
       "      <th>188</th>\n",
       "      <th>191</th>\n",
       "      <th>192</th>\n",
       "      <th>193</th>\n",
       "      <th>195</th>\n",
       "      <th>199</th>\n",
       "    </tr>\n",
       "    <tr>\n",
       "      <th>lead_volume</th>\n",
       "      <th></th>\n",
       "      <th></th>\n",
       "      <th></th>\n",
       "      <th></th>\n",
       "      <th></th>\n",
       "      <th></th>\n",
       "      <th></th>\n",
       "      <th></th>\n",
       "      <th></th>\n",
       "      <th></th>\n",
       "      <th></th>\n",
       "      <th></th>\n",
       "      <th></th>\n",
       "      <th></th>\n",
       "      <th></th>\n",
       "      <th></th>\n",
       "      <th></th>\n",
       "      <th></th>\n",
       "      <th></th>\n",
       "      <th></th>\n",
       "      <th></th>\n",
       "      <th></th>\n",
       "      <th></th>\n",
       "      <th></th>\n",
       "      <th></th>\n",
       "    </tr>\n",
       "  </thead>\n",
       "  <tbody>\n",
       "    <tr>\n",
       "      <th>high</th>\n",
       "      <td>40</td>\n",
       "      <td>11</td>\n",
       "      <td>107</td>\n",
       "      <td>103</td>\n",
       "      <td>22</td>\n",
       "      <td>39</td>\n",
       "      <td>244</td>\n",
       "      <td>124</td>\n",
       "      <td>100</td>\n",
       "      <td>21</td>\n",
       "      <td>2</td>\n",
       "      <td>49</td>\n",
       "      <td>24</td>\n",
       "      <td>86</td>\n",
       "      <td>45</td>\n",
       "      <td>66</td>\n",
       "      <td>61</td>\n",
       "      <td>91</td>\n",
       "      <td>7</td>\n",
       "      <td>113</td>\n",
       "      <td>43</td>\n",
       "      <td>1</td>\n",
       "      <td>119</td>\n",
       "      <td>83</td>\n",
       "      <td>112</td>\n",
       "    </tr>\n",
       "    <tr>\n",
       "      <th>medium</th>\n",
       "      <td>46</td>\n",
       "      <td>15</td>\n",
       "      <td>139</td>\n",
       "      <td>96</td>\n",
       "      <td>23</td>\n",
       "      <td>35</td>\n",
       "      <td>341</td>\n",
       "      <td>70</td>\n",
       "      <td>89</td>\n",
       "      <td>21</td>\n",
       "      <td>1</td>\n",
       "      <td>41</td>\n",
       "      <td>20</td>\n",
       "      <td>99</td>\n",
       "      <td>41</td>\n",
       "      <td>79</td>\n",
       "      <td>69</td>\n",
       "      <td>101</td>\n",
       "      <td>7</td>\n",
       "      <td>96</td>\n",
       "      <td>60</td>\n",
       "      <td>0</td>\n",
       "      <td>106</td>\n",
       "      <td>78</td>\n",
       "      <td>103</td>\n",
       "    </tr>\n",
       "  </tbody>\n",
       "</table>\n",
       "</div>"
      ],
      "text/plain": [
       "city_id      103  105  123  130  138  141  152  154  155  160  162  165  169  \\\n",
       "lead_volume                                                                    \n",
       "high          40   11  107  103   22   39  244  124  100   21    2   49   24   \n",
       "medium        46   15  139   96   23   35  341   70   89   21    1   41   20   \n",
       "\n",
       "city_id      175  176  178  179  180  182  188  191  192  193  195  199  \n",
       "lead_volume                                                              \n",
       "high          86   45   66   61   91    7  113   43    1  119   83  112  \n",
       "medium        99   41   79   69  101    7   96   60    0  106   78  103  "
      ]
     },
     "execution_count": 26,
     "metadata": {},
     "output_type": "execute_result"
    }
   ],
   "source": [
    "CrosstabResult=pd.crosstab(index=data['lead_volume'],columns=data['city_id'])\n",
    "CrosstabResult"
   ]
  },
  {
   "cell_type": "code",
   "execution_count": 27,
   "metadata": {},
   "outputs": [
    {
     "data": {
      "text/html": [
       "<div>\n",
       "<style scoped>\n",
       "    .dataframe tbody tr th:only-of-type {\n",
       "        vertical-align: middle;\n",
       "    }\n",
       "\n",
       "    .dataframe tbody tr th {\n",
       "        vertical-align: top;\n",
       "    }\n",
       "\n",
       "    .dataframe thead th {\n",
       "        text-align: right;\n",
       "    }\n",
       "</style>\n",
       "<table border=\"1\" class=\"dataframe\">\n",
       "  <thead>\n",
       "    <tr style=\"text-align: right;\">\n",
       "      <th>city_id</th>\n",
       "      <th>103</th>\n",
       "      <th>105</th>\n",
       "      <th>123</th>\n",
       "      <th>130</th>\n",
       "      <th>138</th>\n",
       "      <th>141</th>\n",
       "      <th>152</th>\n",
       "      <th>154</th>\n",
       "      <th>155</th>\n",
       "      <th>160</th>\n",
       "      <th>162</th>\n",
       "      <th>165</th>\n",
       "      <th>169</th>\n",
       "      <th>175</th>\n",
       "      <th>176</th>\n",
       "      <th>178</th>\n",
       "      <th>179</th>\n",
       "      <th>180</th>\n",
       "      <th>182</th>\n",
       "      <th>188</th>\n",
       "      <th>191</th>\n",
       "      <th>192</th>\n",
       "      <th>193</th>\n",
       "      <th>195</th>\n",
       "      <th>199</th>\n",
       "    </tr>\n",
       "    <tr>\n",
       "      <th>building_type</th>\n",
       "      <th></th>\n",
       "      <th></th>\n",
       "      <th></th>\n",
       "      <th></th>\n",
       "      <th></th>\n",
       "      <th></th>\n",
       "      <th></th>\n",
       "      <th></th>\n",
       "      <th></th>\n",
       "      <th></th>\n",
       "      <th></th>\n",
       "      <th></th>\n",
       "      <th></th>\n",
       "      <th></th>\n",
       "      <th></th>\n",
       "      <th></th>\n",
       "      <th></th>\n",
       "      <th></th>\n",
       "      <th></th>\n",
       "      <th></th>\n",
       "      <th></th>\n",
       "      <th></th>\n",
       "      <th></th>\n",
       "      <th></th>\n",
       "      <th></th>\n",
       "    </tr>\n",
       "  </thead>\n",
       "  <tbody>\n",
       "    <tr>\n",
       "      <th>low-rise</th>\n",
       "      <td>66</td>\n",
       "      <td>10</td>\n",
       "      <td>113</td>\n",
       "      <td>118</td>\n",
       "      <td>32</td>\n",
       "      <td>42</td>\n",
       "      <td>352</td>\n",
       "      <td>118</td>\n",
       "      <td>129</td>\n",
       "      <td>27</td>\n",
       "      <td>1</td>\n",
       "      <td>57</td>\n",
       "      <td>25</td>\n",
       "      <td>125</td>\n",
       "      <td>61</td>\n",
       "      <td>104</td>\n",
       "      <td>67</td>\n",
       "      <td>102</td>\n",
       "      <td>5</td>\n",
       "      <td>101</td>\n",
       "      <td>68</td>\n",
       "      <td>1</td>\n",
       "      <td>140</td>\n",
       "      <td>96</td>\n",
       "      <td>127</td>\n",
       "    </tr>\n",
       "    <tr>\n",
       "      <th>mid-rise</th>\n",
       "      <td>20</td>\n",
       "      <td>16</td>\n",
       "      <td>133</td>\n",
       "      <td>81</td>\n",
       "      <td>13</td>\n",
       "      <td>32</td>\n",
       "      <td>233</td>\n",
       "      <td>76</td>\n",
       "      <td>60</td>\n",
       "      <td>15</td>\n",
       "      <td>2</td>\n",
       "      <td>33</td>\n",
       "      <td>19</td>\n",
       "      <td>60</td>\n",
       "      <td>25</td>\n",
       "      <td>41</td>\n",
       "      <td>63</td>\n",
       "      <td>90</td>\n",
       "      <td>9</td>\n",
       "      <td>108</td>\n",
       "      <td>35</td>\n",
       "      <td>0</td>\n",
       "      <td>85</td>\n",
       "      <td>65</td>\n",
       "      <td>88</td>\n",
       "    </tr>\n",
       "  </tbody>\n",
       "</table>\n",
       "</div>"
      ],
      "text/plain": [
       "city_id        103  105  123  130  138  141  152  154  155  160  162  165  \\\n",
       "building_type                                                               \n",
       "low-rise        66   10  113  118   32   42  352  118  129   27    1   57   \n",
       "mid-rise        20   16  133   81   13   32  233   76   60   15    2   33   \n",
       "\n",
       "city_id        169  175  176  178  179  180  182  188  191  192  193  195  199  \n",
       "building_type                                                                   \n",
       "low-rise        25  125   61  104   67  102    5  101   68    1  140   96  127  \n",
       "mid-rise        19   60   25   41   63   90    9  108   35    0   85   65   88  "
      ]
     },
     "execution_count": 27,
     "metadata": {},
     "output_type": "execute_result"
    }
   ],
   "source": [
    "CrosstabResult=pd.crosstab(index=data['building_type'],columns=data['city_id'])\n",
    "CrosstabResult"
   ]
  },
  {
   "cell_type": "code",
   "execution_count": 28,
   "metadata": {},
   "outputs": [
    {
     "data": {
      "text/html": [
       "<div>\n",
       "<style scoped>\n",
       "    .dataframe tbody tr th:only-of-type {\n",
       "        vertical-align: middle;\n",
       "    }\n",
       "\n",
       "    .dataframe tbody tr th {\n",
       "        vertical-align: top;\n",
       "    }\n",
       "\n",
       "    .dataframe thead th {\n",
       "        text-align: right;\n",
       "    }\n",
       "</style>\n",
       "<table border=\"1\" class=\"dataframe\">\n",
       "  <thead>\n",
       "    <tr style=\"text-align: right;\">\n",
       "      <th>city_id</th>\n",
       "      <th>103</th>\n",
       "      <th>105</th>\n",
       "      <th>123</th>\n",
       "      <th>130</th>\n",
       "      <th>138</th>\n",
       "      <th>141</th>\n",
       "      <th>152</th>\n",
       "      <th>154</th>\n",
       "      <th>155</th>\n",
       "      <th>160</th>\n",
       "      <th>162</th>\n",
       "      <th>165</th>\n",
       "      <th>169</th>\n",
       "      <th>175</th>\n",
       "      <th>176</th>\n",
       "      <th>178</th>\n",
       "      <th>179</th>\n",
       "      <th>180</th>\n",
       "      <th>182</th>\n",
       "      <th>188</th>\n",
       "      <th>191</th>\n",
       "      <th>192</th>\n",
       "      <th>193</th>\n",
       "      <th>195</th>\n",
       "      <th>199</th>\n",
       "    </tr>\n",
       "    <tr>\n",
       "      <th>vacancy_level</th>\n",
       "      <th></th>\n",
       "      <th></th>\n",
       "      <th></th>\n",
       "      <th></th>\n",
       "      <th></th>\n",
       "      <th></th>\n",
       "      <th></th>\n",
       "      <th></th>\n",
       "      <th></th>\n",
       "      <th></th>\n",
       "      <th></th>\n",
       "      <th></th>\n",
       "      <th></th>\n",
       "      <th></th>\n",
       "      <th></th>\n",
       "      <th></th>\n",
       "      <th></th>\n",
       "      <th></th>\n",
       "      <th></th>\n",
       "      <th></th>\n",
       "      <th></th>\n",
       "      <th></th>\n",
       "      <th></th>\n",
       "      <th></th>\n",
       "      <th></th>\n",
       "    </tr>\n",
       "  </thead>\n",
       "  <tbody>\n",
       "    <tr>\n",
       "      <th>HIGH</th>\n",
       "      <td>16</td>\n",
       "      <td>3</td>\n",
       "      <td>24</td>\n",
       "      <td>36</td>\n",
       "      <td>9</td>\n",
       "      <td>13</td>\n",
       "      <td>181</td>\n",
       "      <td>66</td>\n",
       "      <td>38</td>\n",
       "      <td>7</td>\n",
       "      <td>1</td>\n",
       "      <td>15</td>\n",
       "      <td>6</td>\n",
       "      <td>24</td>\n",
       "      <td>11</td>\n",
       "      <td>27</td>\n",
       "      <td>18</td>\n",
       "      <td>35</td>\n",
       "      <td>1</td>\n",
       "      <td>40</td>\n",
       "      <td>14</td>\n",
       "      <td>0</td>\n",
       "      <td>34</td>\n",
       "      <td>34</td>\n",
       "      <td>36</td>\n",
       "    </tr>\n",
       "    <tr>\n",
       "      <th>LOW</th>\n",
       "      <td>70</td>\n",
       "      <td>23</td>\n",
       "      <td>222</td>\n",
       "      <td>163</td>\n",
       "      <td>36</td>\n",
       "      <td>61</td>\n",
       "      <td>404</td>\n",
       "      <td>128</td>\n",
       "      <td>151</td>\n",
       "      <td>35</td>\n",
       "      <td>2</td>\n",
       "      <td>75</td>\n",
       "      <td>38</td>\n",
       "      <td>161</td>\n",
       "      <td>75</td>\n",
       "      <td>118</td>\n",
       "      <td>112</td>\n",
       "      <td>157</td>\n",
       "      <td>13</td>\n",
       "      <td>169</td>\n",
       "      <td>89</td>\n",
       "      <td>1</td>\n",
       "      <td>191</td>\n",
       "      <td>127</td>\n",
       "      <td>179</td>\n",
       "    </tr>\n",
       "  </tbody>\n",
       "</table>\n",
       "</div>"
      ],
      "text/plain": [
       "city_id        103  105  123  130  138  141  152  154  155  160  162  165  \\\n",
       "vacancy_level                                                               \n",
       "HIGH            16    3   24   36    9   13  181   66   38    7    1   15   \n",
       "LOW             70   23  222  163   36   61  404  128  151   35    2   75   \n",
       "\n",
       "city_id        169  175  176  178  179  180  182  188  191  192  193  195  199  \n",
       "vacancy_level                                                                   \n",
       "HIGH             6   24   11   27   18   35    1   40   14    0   34   34   36  \n",
       "LOW             38  161   75  118  112  157   13  169   89    1  191  127  179  "
      ]
     },
     "execution_count": 28,
     "metadata": {},
     "output_type": "execute_result"
    }
   ],
   "source": [
    "CrosstabResult=pd.crosstab(index=data['vacancy_level'],columns=data['city_id'])\n",
    "CrosstabResult"
   ]
  },
  {
   "cell_type": "code",
   "execution_count": 29,
   "metadata": {},
   "outputs": [
    {
     "data": {
      "text/html": [
       "<div>\n",
       "<style scoped>\n",
       "    .dataframe tbody tr th:only-of-type {\n",
       "        vertical-align: middle;\n",
       "    }\n",
       "\n",
       "    .dataframe tbody tr th {\n",
       "        vertical-align: top;\n",
       "    }\n",
       "\n",
       "    .dataframe thead th {\n",
       "        text-align: right;\n",
       "    }\n",
       "</style>\n",
       "<table border=\"1\" class=\"dataframe\">\n",
       "  <thead>\n",
       "    <tr style=\"text-align: right;\">\n",
       "      <th>city_id</th>\n",
       "      <th>103</th>\n",
       "      <th>105</th>\n",
       "      <th>123</th>\n",
       "      <th>130</th>\n",
       "      <th>138</th>\n",
       "      <th>141</th>\n",
       "      <th>152</th>\n",
       "      <th>154</th>\n",
       "      <th>155</th>\n",
       "      <th>160</th>\n",
       "      <th>162</th>\n",
       "      <th>165</th>\n",
       "      <th>169</th>\n",
       "      <th>175</th>\n",
       "      <th>176</th>\n",
       "      <th>178</th>\n",
       "      <th>179</th>\n",
       "      <th>180</th>\n",
       "      <th>182</th>\n",
       "      <th>188</th>\n",
       "      <th>191</th>\n",
       "      <th>192</th>\n",
       "      <th>193</th>\n",
       "      <th>195</th>\n",
       "      <th>199</th>\n",
       "    </tr>\n",
       "    <tr>\n",
       "      <th>has_online_tour</th>\n",
       "      <th></th>\n",
       "      <th></th>\n",
       "      <th></th>\n",
       "      <th></th>\n",
       "      <th></th>\n",
       "      <th></th>\n",
       "      <th></th>\n",
       "      <th></th>\n",
       "      <th></th>\n",
       "      <th></th>\n",
       "      <th></th>\n",
       "      <th></th>\n",
       "      <th></th>\n",
       "      <th></th>\n",
       "      <th></th>\n",
       "      <th></th>\n",
       "      <th></th>\n",
       "      <th></th>\n",
       "      <th></th>\n",
       "      <th></th>\n",
       "      <th></th>\n",
       "      <th></th>\n",
       "      <th></th>\n",
       "      <th></th>\n",
       "      <th></th>\n",
       "    </tr>\n",
       "  </thead>\n",
       "  <tbody>\n",
       "    <tr>\n",
       "      <th>NA</th>\n",
       "      <td>70</td>\n",
       "      <td>23</td>\n",
       "      <td>222</td>\n",
       "      <td>163</td>\n",
       "      <td>36</td>\n",
       "      <td>61</td>\n",
       "      <td>404</td>\n",
       "      <td>128</td>\n",
       "      <td>151</td>\n",
       "      <td>35</td>\n",
       "      <td>2</td>\n",
       "      <td>75</td>\n",
       "      <td>38</td>\n",
       "      <td>161</td>\n",
       "      <td>75</td>\n",
       "      <td>118</td>\n",
       "      <td>112</td>\n",
       "      <td>157</td>\n",
       "      <td>13</td>\n",
       "      <td>169</td>\n",
       "      <td>89</td>\n",
       "      <td>1</td>\n",
       "      <td>191</td>\n",
       "      <td>127</td>\n",
       "      <td>179</td>\n",
       "    </tr>\n",
       "    <tr>\n",
       "      <th>no</th>\n",
       "      <td>13</td>\n",
       "      <td>3</td>\n",
       "      <td>18</td>\n",
       "      <td>30</td>\n",
       "      <td>9</td>\n",
       "      <td>12</td>\n",
       "      <td>157</td>\n",
       "      <td>57</td>\n",
       "      <td>32</td>\n",
       "      <td>5</td>\n",
       "      <td>0</td>\n",
       "      <td>12</td>\n",
       "      <td>5</td>\n",
       "      <td>23</td>\n",
       "      <td>10</td>\n",
       "      <td>24</td>\n",
       "      <td>14</td>\n",
       "      <td>31</td>\n",
       "      <td>1</td>\n",
       "      <td>35</td>\n",
       "      <td>12</td>\n",
       "      <td>0</td>\n",
       "      <td>33</td>\n",
       "      <td>32</td>\n",
       "      <td>30</td>\n",
       "    </tr>\n",
       "    <tr>\n",
       "      <th>yes</th>\n",
       "      <td>3</td>\n",
       "      <td>0</td>\n",
       "      <td>6</td>\n",
       "      <td>6</td>\n",
       "      <td>0</td>\n",
       "      <td>1</td>\n",
       "      <td>24</td>\n",
       "      <td>9</td>\n",
       "      <td>6</td>\n",
       "      <td>2</td>\n",
       "      <td>1</td>\n",
       "      <td>3</td>\n",
       "      <td>1</td>\n",
       "      <td>1</td>\n",
       "      <td>1</td>\n",
       "      <td>3</td>\n",
       "      <td>4</td>\n",
       "      <td>4</td>\n",
       "      <td>0</td>\n",
       "      <td>5</td>\n",
       "      <td>2</td>\n",
       "      <td>0</td>\n",
       "      <td>1</td>\n",
       "      <td>2</td>\n",
       "      <td>6</td>\n",
       "    </tr>\n",
       "  </tbody>\n",
       "</table>\n",
       "</div>"
      ],
      "text/plain": [
       "city_id          103  105  123  130  138  141  152  154  155  160  162  165  \\\n",
       "has_online_tour                                                               \n",
       "NA                70   23  222  163   36   61  404  128  151   35    2   75   \n",
       "no                13    3   18   30    9   12  157   57   32    5    0   12   \n",
       "yes                3    0    6    6    0    1   24    9    6    2    1    3   \n",
       "\n",
       "city_id          169  175  176  178  179  180  182  188  191  192  193  195  \\\n",
       "has_online_tour                                                               \n",
       "NA                38  161   75  118  112  157   13  169   89    1  191  127   \n",
       "no                 5   23   10   24   14   31    1   35   12    0   33   32   \n",
       "yes                1    1    1    3    4    4    0    5    2    0    1    2   \n",
       "\n",
       "city_id          199  \n",
       "has_online_tour       \n",
       "NA               179  \n",
       "no                30  \n",
       "yes                6  "
      ]
     },
     "execution_count": 29,
     "metadata": {},
     "output_type": "execute_result"
    }
   ],
   "source": [
    "CrosstabResult=pd.crosstab(index=data['has_online_tour'],columns=data['city_id'])\n",
    "CrosstabResult"
   ]
  },
  {
   "cell_type": "code",
   "execution_count": 30,
   "metadata": {},
   "outputs": [
    {
     "data": {
      "text/html": [
       "<div>\n",
       "<style scoped>\n",
       "    .dataframe tbody tr th:only-of-type {\n",
       "        vertical-align: middle;\n",
       "    }\n",
       "\n",
       "    .dataframe tbody tr th {\n",
       "        vertical-align: top;\n",
       "    }\n",
       "\n",
       "    .dataframe thead th {\n",
       "        text-align: right;\n",
       "    }\n",
       "</style>\n",
       "<table border=\"1\" class=\"dataframe\">\n",
       "  <thead>\n",
       "    <tr style=\"text-align: right;\">\n",
       "      <th>city_id</th>\n",
       "      <th>103</th>\n",
       "      <th>105</th>\n",
       "      <th>123</th>\n",
       "      <th>130</th>\n",
       "      <th>138</th>\n",
       "      <th>141</th>\n",
       "      <th>152</th>\n",
       "      <th>154</th>\n",
       "      <th>155</th>\n",
       "      <th>160</th>\n",
       "      <th>162</th>\n",
       "      <th>165</th>\n",
       "      <th>169</th>\n",
       "      <th>175</th>\n",
       "      <th>176</th>\n",
       "      <th>178</th>\n",
       "      <th>179</th>\n",
       "      <th>180</th>\n",
       "      <th>182</th>\n",
       "      <th>188</th>\n",
       "      <th>191</th>\n",
       "      <th>192</th>\n",
       "      <th>193</th>\n",
       "      <th>195</th>\n",
       "      <th>199</th>\n",
       "    </tr>\n",
       "    <tr>\n",
       "      <th>photo_quality</th>\n",
       "      <th></th>\n",
       "      <th></th>\n",
       "      <th></th>\n",
       "      <th></th>\n",
       "      <th></th>\n",
       "      <th></th>\n",
       "      <th></th>\n",
       "      <th></th>\n",
       "      <th></th>\n",
       "      <th></th>\n",
       "      <th></th>\n",
       "      <th></th>\n",
       "      <th></th>\n",
       "      <th></th>\n",
       "      <th></th>\n",
       "      <th></th>\n",
       "      <th></th>\n",
       "      <th></th>\n",
       "      <th></th>\n",
       "      <th></th>\n",
       "      <th></th>\n",
       "      <th></th>\n",
       "      <th></th>\n",
       "      <th></th>\n",
       "      <th></th>\n",
       "    </tr>\n",
       "  </thead>\n",
       "  <tbody>\n",
       "    <tr>\n",
       "      <th>high</th>\n",
       "      <td>43</td>\n",
       "      <td>18</td>\n",
       "      <td>127</td>\n",
       "      <td>98</td>\n",
       "      <td>23</td>\n",
       "      <td>36</td>\n",
       "      <td>416</td>\n",
       "      <td>75</td>\n",
       "      <td>87</td>\n",
       "      <td>15</td>\n",
       "      <td>1</td>\n",
       "      <td>45</td>\n",
       "      <td>16</td>\n",
       "      <td>85</td>\n",
       "      <td>31</td>\n",
       "      <td>70</td>\n",
       "      <td>58</td>\n",
       "      <td>91</td>\n",
       "      <td>6</td>\n",
       "      <td>94</td>\n",
       "      <td>60</td>\n",
       "      <td>0</td>\n",
       "      <td>96</td>\n",
       "      <td>67</td>\n",
       "      <td>82</td>\n",
       "    </tr>\n",
       "    <tr>\n",
       "      <th>low</th>\n",
       "      <td>43</td>\n",
       "      <td>8</td>\n",
       "      <td>119</td>\n",
       "      <td>101</td>\n",
       "      <td>22</td>\n",
       "      <td>38</td>\n",
       "      <td>169</td>\n",
       "      <td>119</td>\n",
       "      <td>102</td>\n",
       "      <td>27</td>\n",
       "      <td>2</td>\n",
       "      <td>45</td>\n",
       "      <td>28</td>\n",
       "      <td>100</td>\n",
       "      <td>55</td>\n",
       "      <td>75</td>\n",
       "      <td>72</td>\n",
       "      <td>101</td>\n",
       "      <td>8</td>\n",
       "      <td>115</td>\n",
       "      <td>43</td>\n",
       "      <td>1</td>\n",
       "      <td>129</td>\n",
       "      <td>94</td>\n",
       "      <td>133</td>\n",
       "    </tr>\n",
       "  </tbody>\n",
       "</table>\n",
       "</div>"
      ],
      "text/plain": [
       "city_id        103  105  123  130  138  141  152  154  155  160  162  165  \\\n",
       "photo_quality                                                               \n",
       "high            43   18  127   98   23   36  416   75   87   15    1   45   \n",
       "low             43    8  119  101   22   38  169  119  102   27    2   45   \n",
       "\n",
       "city_id        169  175  176  178  179  180  182  188  191  192  193  195  199  \n",
       "photo_quality                                                                   \n",
       "high            16   85   31   70   58   91    6   94   60    0   96   67   82  \n",
       "low             28  100   55   75   72  101    8  115   43    1  129   94  133  "
      ]
     },
     "execution_count": 30,
     "metadata": {},
     "output_type": "execute_result"
    }
   ],
   "source": [
    "CrosstabResult=pd.crosstab(index=data['photo_quality'],columns=data['city_id'])\n",
    "CrosstabResult"
   ]
  },
  {
   "cell_type": "markdown",
   "metadata": {},
   "source": [
    "##### Due to High Photo Quality even Low Lead Volume is resulting in higher subscriptions for this city"
   ]
  },
  {
   "cell_type": "code",
   "execution_count": 31,
   "metadata": {},
   "outputs": [
    {
     "data": {
      "text/plain": [
       "<AxesSubplot:xlabel='dayofweek_name'>"
      ]
     },
     "execution_count": 31,
     "metadata": {},
     "output_type": "execute_result"
    },
    {
     "data": {
      "image/png": "[encoded data removed]",
      "text/plain": [
       "<Figure size 1080x288 with 1 Axes>"
      ]
     },
     "metadata": {
      "needs_background": "light"
     },
     "output_type": "display_data"
    }
   ],
   "source": [
    "CrosstabResult=pd.crosstab(index=data['dayofweek_name'],columns=data['subscription_level'])\n",
    "\n",
    "%matplotlib inline \n",
    "\n",
    "CrosstabResult.plot.bar(figsize=(15,4),rot=0)\n"
   ]
  },
  {
   "cell_type": "markdown",
   "metadata": {},
   "source": [
    "##### Saturday and Tuesday reports high level of subscriptions of Level 9. Sunday reports high level of subscription Level 7"
   ]
  },
  {
   "cell_type": "code",
   "execution_count": 32,
   "metadata": {},
   "outputs": [
    {
     "data": {
      "text/plain": [
       "<AxesSubplot:xlabel='is_weekend'>"
      ]
     },
     "execution_count": 32,
     "metadata": {},
     "output_type": "execute_result"
    },
    {
     "data": {
      "image/png": "[encoded data removed]",
      "text/plain": [
       "<Figure size 1080x288 with 1 Axes>"
      ]
     },
     "metadata": {
      "needs_background": "light"
     },
     "output_type": "display_data"
    }
   ],
   "source": [
    "CrosstabResult=pd.crosstab(index=data['is_weekend'],columns=data['subscription_level'])\n",
    "\n",
    "%matplotlib inline \n",
    "\n",
    "CrosstabResult.plot.bar(figsize=(15,4), rot=0)"
   ]
  },
  {
   "cell_type": "code",
   "execution_count": 33,
   "metadata": {},
   "outputs": [
    {
     "data": {
      "text/plain": [
       "<AxesSubplot:xlabel='month_of_date'>"
      ]
     },
     "execution_count": 33,
     "metadata": {},
     "output_type": "execute_result"
    },
    {
     "data": {
      "image/png": "[encoded data removed]",
      "text/plain": [
       "<Figure size 1080x288 with 1 Axes>"
      ]
     },
     "metadata": {
      "needs_background": "light"
     },
     "output_type": "display_data"
    }
   ],
   "source": [
    "CrosstabResult=pd.crosstab(index=data['month_of_date'],columns=data['subscription_level'])\n",
    "\n",
    "%matplotlib inline \n",
    "\n",
    "CrosstabResult.plot.bar(figsize=(15,4), rot=0)"
   ]
  },
  {
   "cell_type": "markdown",
   "metadata": {},
   "source": [
    "#### Subscriptions are higher towards the end of year may be due to holiday season"
   ]
  },
  {
   "cell_type": "code",
   "execution_count": 34,
   "metadata": {},
   "outputs": [
    {
     "data": {
      "text/plain": [
       "<AxesSubplot:xlabel='year_of_date'>"
      ]
     },
     "execution_count": 34,
     "metadata": {},
     "output_type": "execute_result"
    },
    {
     "data": {
      "image/png": "[encoded data removed]",
      "text/plain": [
       "<Figure size 1080x288 with 1 Axes>"
      ]
     },
     "metadata": {
      "needs_background": "light"
     },
     "output_type": "display_data"
    }
   ],
   "source": [
    "CrosstabResult=pd.crosstab(index=data['year_of_date'],columns=data['subscription_level'])\n",
    "\n",
    "%matplotlib inline \n",
    "\n",
    "CrosstabResult.plot.bar(figsize=(15,4), rot=0)"
   ]
  },
  {
   "cell_type": "code",
   "execution_count": 35,
   "metadata": {},
   "outputs": [
    {
     "data": {
      "text/plain": [
       "<AxesSubplot:xlabel='lead_volume'>"
      ]
     },
     "execution_count": 35,
     "metadata": {},
     "output_type": "execute_result"
    },
    {
     "data": {
      "image/png": "[encoded data removed]",
      "text/plain": [
       "<Figure size 1080x288 with 1 Axes>"
      ]
     },
     "metadata": {
      "needs_background": "light"
     },
     "output_type": "display_data"
    }
   ],
   "source": [
    "CrosstabResult=pd.crosstab(index=data['lead_volume'],columns=data['subscription_level'])\n",
    "\n",
    "%matplotlib inline \n",
    "\n",
    "CrosstabResult.plot.bar(figsize=(15,4), rot=0)"
   ]
  },
  {
   "cell_type": "code",
   "execution_count": 36,
   "metadata": {},
   "outputs": [
    {
     "data": {
      "text/plain": [
       "<AxesSubplot:xlabel='building_type'>"
      ]
     },
     "execution_count": 36,
     "metadata": {},
     "output_type": "execute_result"
    },
    {
     "data": {
      "image/png": "[encoded data removed]",
      "text/plain": [
       "<Figure size 1080x288 with 1 Axes>"
      ]
     },
     "metadata": {
      "needs_background": "light"
     },
     "output_type": "display_data"
    }
   ],
   "source": [
    "CrosstabResult=pd.crosstab(index=data['building_type'],columns=data['subscription_level'])\n",
    "\n",
    "%matplotlib inline \n",
    "\n",
    "CrosstabResult.plot.bar(figsize=(15,4), rot=0)\n"
   ]
  },
  {
   "cell_type": "code",
   "execution_count": 37,
   "metadata": {},
   "outputs": [
    {
     "data": {
      "text/plain": [
       "<AxesSubplot:xlabel='vacancy_level'>"
      ]
     },
     "execution_count": 37,
     "metadata": {},
     "output_type": "execute_result"
    },
    {
     "data": {
      "image/png": "[encoded data removed]",
      "text/plain": [
       "<Figure size 1080x288 with 1 Axes>"
      ]
     },
     "metadata": {
      "needs_background": "light"
     },
     "output_type": "display_data"
    }
   ],
   "source": [
    "CrosstabResult=pd.crosstab(index=data['vacancy_level'],columns=data['subscription_level'])\n",
    "\n",
    "%matplotlib inline \n",
    "\n",
    "CrosstabResult.plot.bar(figsize=(15,4), rot=0)\n"
   ]
  },
  {
   "cell_type": "code",
   "execution_count": 38,
   "metadata": {},
   "outputs": [
    {
     "data": {
      "text/plain": [
       "<AxesSubplot:xlabel='has_online_tour'>"
      ]
     },
     "execution_count": 38,
     "metadata": {},
     "output_type": "execute_result"
    },
    {
     "data": {
      "image/png": "[encoded data removed]",
      "text/plain": [
       "<Figure size 1080x288 with 1 Axes>"
      ]
     },
     "metadata": {
      "needs_background": "light"
     },
     "output_type": "display_data"
    }
   ],
   "source": [
    "CrosstabResult=pd.crosstab(index=data['has_online_tour'],columns=data['subscription_level'])\n",
    "\n",
    "%matplotlib inline \n",
    "\n",
    "CrosstabResult.plot.bar(figsize=(15,4), rot=0)\n"
   ]
  },
  {
   "cell_type": "code",
   "execution_count": 39,
   "metadata": {},
   "outputs": [
    {
     "data": {
      "text/plain": [
       "<AxesSubplot:xlabel='photo_quality'>"
      ]
     },
     "execution_count": 39,
     "metadata": {},
     "output_type": "execute_result"
    },
    {
     "data": {
      "image/png": "[encoded data removed]",
      "text/plain": [
       "<Figure size 1080x288 with 1 Axes>"
      ]
     },
     "metadata": {
      "needs_background": "light"
     },
     "output_type": "display_data"
    }
   ],
   "source": [
    "CrosstabResult=pd.crosstab(index=data['photo_quality'],columns=data['subscription_level'])\n",
    "\n",
    "%matplotlib inline \n",
    "\n",
    "CrosstabResult.plot.bar(figsize=(15,4), rot=0)"
   ]
  },
  {
   "cell_type": "code",
   "execution_count": 40,
   "metadata": {},
   "outputs": [
    {
     "name": "stdout",
     "output_type": "stream",
     "text": [
      "vacancy_level  HIGH   LOW\n",
      "building_type            \n",
      "low-rise        399  1688\n",
      "mid-rise        290  1112\n"
     ]
    }
   ],
   "source": [
    "#prepare cross tabulation\n",
    "from scipy import stats\n",
    "crosstab = pd.crosstab(data['building_type'], data['vacancy_level'])\n",
    "print(crosstab)"
   ]
  },
  {
   "cell_type": "markdown",
   "metadata": {},
   "source": [
    "#### Hypothesis Testing"
   ]
  },
  {
   "cell_type": "code",
   "execution_count": 41,
   "metadata": {},
   "outputs": [
    {
     "name": "stdout",
     "output_type": "stream",
     "text": [
      "(1.201390514975761, 0.2730439361903719, 1, array([[ 412.13614216, 1674.86385784],\n",
      "       [ 276.86385784, 1125.13614216]]))\n",
      "**********************************************\n",
      "dof=1\n",
      "[[ 412.13614216 1674.86385784]\n",
      " [ 276.86385784 1125.13614216]]\n",
      "significance=0.050, p=0.273\n",
      "Independent (fail to reject H0)\n"
     ]
    }
   ],
   "source": [
    "# chi-squared test with similar proportions\n",
    "#************************************************\n",
    "#     Hypothesis Testing\n",
    "#************************************************\n",
    "#H0 (Null Hypothesis): The subscription level is independent of building_type\n",
    "#################################################\n",
    "#H1 (Alternate Hypothesis): The subscription level depends on building_type\n",
    "#################################################\n",
    "\n",
    "#perform chi square test for independency\n",
    "\n",
    "from scipy.stats import chi2_contingency\n",
    "from scipy.stats import chi2\n",
    "stat, p, dof, expected = stats.chi2_contingency(crosstab)\n",
    "print(stats.chi2_contingency(crosstab))\n",
    "print(\"**********************************************\")\n",
    "print('dof=%d' % dof)\n",
    "print(expected)\n",
    "# interpret test-statistic\n",
    "prob = 0.95\n",
    "alpha = 1.0 - prob\n",
    "print('significance=%.3f, p=%.3f' % (alpha, p))\n",
    "if p <= alpha:\n",
    "    print('Dependent (reject H0)')\n",
    "else:\n",
    "    print('Independent (fail to reject H0)')\n",
    "    \n",
    "#**********************************************\n",
    "# Conclusion\n",
    "#**********************************************\n",
    "#chi sq val is 1.120\n",
    "#here p-val is 0.273<0.05 thus we fail to reject H0\n",
    "#degrees of freedom= (no of rows-1)x(no of cols-1) here 1"
   ]
  },
  {
   "cell_type": "code",
   "execution_count": 42,
   "metadata": {},
   "outputs": [
    {
     "name": "stdout",
     "output_type": "stream",
     "text": [
      "photo_quality  high   low\n",
      "building_type            \n",
      "low-rise       1034  1053\n",
      "mid-rise        706   696\n"
     ]
    }
   ],
   "source": [
    "##Chi Sqaure test for other variables\n",
    "from scipy import stats\n",
    "crosstab = pd.crosstab(data['building_type'], data['photo_quality'])\n",
    "print(crosstab)"
   ]
  },
  {
   "cell_type": "code",
   "execution_count": 43,
   "metadata": {},
   "outputs": [
    {
     "name": "stdout",
     "output_type": "stream",
     "text": [
      "dof=1\n",
      "[[1040.80825451 1046.19174549]\n",
      " [ 699.19174549  702.80825451]]\n",
      "significance=0.050, p=0.663\n",
      "Independent (fail to reject H0)\n"
     ]
    }
   ],
   "source": [
    "from scipy.stats import chi2_contingency\n",
    "from scipy.stats import chi2\n",
    "stat, p, dof, expected = stats.chi2_contingency(crosstab)\n",
    "print('dof=%d' % dof)\n",
    "print(expected)\n",
    "# interpret test-statistic\n",
    "prob = 0.95\n",
    "alpha = 1.0 - prob\n",
    "print('significance=%.3f, p=%.3f' % (alpha, p))\n",
    "if p <= alpha:\n",
    "    print('Dependent (reject H0)')\n",
    "else:\n",
    "    print('Independent (fail to reject H0)')"
   ]
  },
  {
   "cell_type": "code",
   "execution_count": 44,
   "metadata": {},
   "outputs": [
    {
     "name": "stdout",
     "output_type": "stream",
     "text": [
      "lead_volume    high  medium\n",
      "building_type              \n",
      "low-rise       1021    1066\n",
      "mid-rise        692     710\n"
     ]
    }
   ],
   "source": [
    "from scipy import stats\n",
    "crosstab = pd.crosstab(data['building_type'], data['lead_volume'])\n",
    "print(crosstab)"
   ]
  },
  {
   "cell_type": "code",
   "execution_count": 45,
   "metadata": {},
   "outputs": [
    {
     "name": "stdout",
     "output_type": "stream",
     "text": [
      "dof=1\n",
      "[[1024.6577816 1062.3422184]\n",
      " [ 688.3422184  713.6577816]]\n",
      "significance=0.050, p=0.827\n",
      "Independent (fail to reject H0)\n"
     ]
    }
   ],
   "source": [
    "from scipy.stats import chi2_contingency\n",
    "from scipy.stats import chi2\n",
    "stat, p, dof, expected = stats.chi2_contingency(crosstab)\n",
    "print('dof=%d' % dof)\n",
    "print(expected)\n",
    "# interpret test-statistic\n",
    "prob = 0.95\n",
    "alpha = 1.0 - prob\n",
    "print('significance=%.3f, p=%.3f' % (alpha, p))\n",
    "if p <= alpha:\n",
    "    print('Dependent (reject H0)')\n",
    "else:\n",
    "    print('Independent (fail to reject H0)')"
   ]
  },
  {
   "cell_type": "code",
   "execution_count": 46,
   "metadata": {},
   "outputs": [
    {
     "name": "stdout",
     "output_type": "stream",
     "text": [
      "is_weekend        0    1\n",
      "building_type           \n",
      "low-rise       1472  615\n",
      "mid-rise        998  404\n"
     ]
    }
   ],
   "source": [
    "from scipy import stats\n",
    "crosstab = pd.crosstab(data['building_type'], data['is_weekend'])\n",
    "print(crosstab)"
   ]
  },
  {
   "cell_type": "code",
   "execution_count": 47,
   "metadata": {},
   "outputs": [
    {
     "name": "stdout",
     "output_type": "stream",
     "text": [
      "dof=1\n",
      "[[1477.46918888  609.53081112]\n",
      " [ 992.53081112  409.46918888]]\n",
      "significance=0.050, p=0.706\n",
      "Independent (fail to reject H0)\n"
     ]
    }
   ],
   "source": [
    "from scipy.stats import chi2_contingency\n",
    "from scipy.stats import chi2\n",
    "stat, p, dof, expected = stats.chi2_contingency(crosstab)\n",
    "print('dof=%d' % dof)\n",
    "print(expected)\n",
    "# interpret test-statistic\n",
    "prob = 0.95\n",
    "alpha = 1.0 - prob\n",
    "print('significance=%.3f, p=%.3f' % (alpha, p))\n",
    "if p <= alpha:\n",
    "    print('Dependent (reject H0)')\n",
    "else:\n",
    "    print('Independent (fail to reject H0)')"
   ]
  },
  {
   "cell_type": "code",
   "execution_count": 48,
   "metadata": {},
   "outputs": [
    {
     "name": "stdout",
     "output_type": "stream",
     "text": [
      "photo_quality  high   low\n",
      "vacancy_level            \n",
      "HIGH            304   385\n",
      "LOW            1436  1364\n"
     ]
    }
   ],
   "source": [
    "from scipy import stats\n",
    "crosstab = pd.crosstab(data['vacancy_level'], data['photo_quality'])\n",
    "print(crosstab)"
   ]
  },
  {
   "cell_type": "code",
   "execution_count": 49,
   "metadata": {},
   "outputs": [
    {
     "name": "stdout",
     "output_type": "stream",
     "text": [
      "dof=1\n",
      "[[ 343.61134996  345.38865004]\n",
      " [1396.38865004 1403.61134996]]\n",
      "significance=0.050, p=0.001\n",
      "Dependent (reject H0)\n"
     ]
    }
   ],
   "source": [
    "from scipy.stats import chi2_contingency\n",
    "from scipy.stats import chi2\n",
    "stat, p, dof, expected = stats.chi2_contingency(crosstab)\n",
    "print('dof=%d' % dof)\n",
    "print(expected)\n",
    "# interpret test-statistic\n",
    "prob = 0.95\n",
    "alpha = 1.0 - prob\n",
    "print('significance=%.3f, p=%.3f' % (alpha, p))\n",
    "if p <= alpha:\n",
    "    print('Dependent (reject H0)')\n",
    "else:\n",
    "    print('Independent (fail to reject H0)')"
   ]
  },
  {
   "cell_type": "code",
   "execution_count": 50,
   "metadata": {},
   "outputs": [
    {
     "name": "stdout",
     "output_type": "stream",
     "text": [
      "lead_volume    high  medium\n",
      "vacancy_level              \n",
      "HIGH            479     210\n",
      "LOW            1234    1566\n"
     ]
    }
   ],
   "source": [
    "from scipy import stats\n",
    "crosstab = pd.crosstab(data['vacancy_level'], data['lead_volume'])\n",
    "print(crosstab)"
   ]
  },
  {
   "cell_type": "code",
   "execution_count": 51,
   "metadata": {},
   "outputs": [
    {
     "name": "stdout",
     "output_type": "stream",
     "text": [
      "dof=1\n",
      "[[ 338.2794497  350.7205503]\n",
      " [1374.7205503 1425.2794497]]\n",
      "significance=0.050, p=0.000\n",
      "Dependent (reject H0)\n"
     ]
    }
   ],
   "source": [
    "from scipy.stats import chi2_contingency\n",
    "from scipy.stats import chi2\n",
    "stat, p, dof, expected = stats.chi2_contingency(crosstab)\n",
    "print('dof=%d' % dof)\n",
    "print(expected)\n",
    "# interpret test-statistic\n",
    "prob = 0.95\n",
    "alpha = 1.0 - prob\n",
    "print('significance=%.3f, p=%.3f' % (alpha, p))\n",
    "if p <= alpha:\n",
    "    print('Dependent (reject H0)')\n",
    "else:\n",
    "    print('Independent (fail to reject H0)')"
   ]
  },
  {
   "cell_type": "code",
   "execution_count": 52,
   "metadata": {},
   "outputs": [
    {
     "name": "stdout",
     "output_type": "stream",
     "text": [
      "is_weekend        0    1\n",
      "vacancy_level           \n",
      "HIGH            502  187\n",
      "LOW            1968  832\n"
     ]
    }
   ],
   "source": [
    "from scipy import stats\n",
    "crosstab = pd.crosstab(data['vacancy_level'], data['is_weekend'])\n",
    "print(crosstab)"
   ]
  },
  {
   "cell_type": "code",
   "execution_count": 53,
   "metadata": {},
   "outputs": [
    {
     "name": "stdout",
     "output_type": "stream",
     "text": [
      "dof=1\n",
      "[[ 487.77013471  201.22986529]\n",
      " [1982.22986529  817.77013471]]\n",
      "significance=0.050, p=0.199\n",
      "Independent (fail to reject H0)\n"
     ]
    }
   ],
   "source": [
    "from scipy.stats import chi2_contingency\n",
    "from scipy.stats import chi2\n",
    "stat, p, dof, expected = stats.chi2_contingency(crosstab)\n",
    "print('dof=%d' % dof)\n",
    "print(expected)\n",
    "# interpret test-statistic\n",
    "prob = 0.95\n",
    "alpha = 1.0 - prob\n",
    "print('significance=%.3f, p=%.3f' % (alpha, p))\n",
    "if p <= alpha:\n",
    "    print('Dependent (reject H0)')\n",
    "else:\n",
    "    print('Independent (fail to reject H0)')"
   ]
  },
  {
   "cell_type": "code",
   "execution_count": 54,
   "metadata": {},
   "outputs": [
    {
     "name": "stdout",
     "output_type": "stream",
     "text": [
      "lead_volume    high  medium\n",
      "photo_quality              \n",
      "high            399    1341\n",
      "low            1314     435\n"
     ]
    }
   ],
   "source": [
    "from scipy import stats\n",
    "crosstab = pd.crosstab(data['photo_quality'], data['lead_volume'])\n",
    "print(crosstab)"
   ]
  },
  {
   "cell_type": "code",
   "execution_count": 55,
   "metadata": {},
   "outputs": [
    {
     "name": "stdout",
     "output_type": "stream",
     "text": [
      "dof=1\n",
      "[[854.29062769 885.70937231]\n",
      " [858.70937231 890.29062769]]\n",
      "significance=0.050, p=0.000\n",
      "Dependent (reject H0)\n"
     ]
    }
   ],
   "source": [
    "from scipy.stats import chi2_contingency\n",
    "from scipy.stats import chi2\n",
    "stat, p, dof, expected = stats.chi2_contingency(crosstab)\n",
    "print('dof=%d' % dof)\n",
    "print(expected)\n",
    "# interpret test-statistic\n",
    "prob = 0.95\n",
    "alpha = 1.0 - prob\n",
    "print('significance=%.3f, p=%.3f' % (alpha, p))\n",
    "if p <= alpha:\n",
    "    print('Dependent (reject H0)')\n",
    "else:\n",
    "    print('Independent (fail to reject H0)')"
   ]
  },
  {
   "cell_type": "code",
   "execution_count": 56,
   "metadata": {},
   "outputs": [
    {
     "name": "stdout",
     "output_type": "stream",
     "text": [
      "is_weekend        0    1\n",
      "photo_quality           \n",
      "high           1242  498\n",
      "low            1228  521\n"
     ]
    }
   ],
   "source": [
    "from scipy import stats\n",
    "crosstab = pd.crosstab(data['photo_quality'], data['is_weekend'])\n",
    "print(crosstab)"
   ]
  },
  {
   "cell_type": "code",
   "execution_count": 57,
   "metadata": {},
   "outputs": [
    {
     "name": "stdout",
     "output_type": "stream",
     "text": [
      "dof=1\n",
      "[[1231.81427343  508.18572657]\n",
      " [1238.18572657  510.81427343]]\n",
      "significance=0.050, p=0.471\n",
      "Independent (fail to reject H0)\n"
     ]
    }
   ],
   "source": [
    "from scipy.stats import chi2_contingency\n",
    "from scipy.stats import chi2\n",
    "stat, p, dof, expected = stats.chi2_contingency(crosstab)\n",
    "print('dof=%d' % dof)\n",
    "print(expected)\n",
    "# interpret test-statistic\n",
    "prob = 0.95\n",
    "alpha = 1.0 - prob\n",
    "print('significance=%.3f, p=%.3f' % (alpha, p))\n",
    "if p <= alpha:\n",
    "    print('Dependent (reject H0)')\n",
    "else:\n",
    "    print('Independent (fail to reject H0)')"
   ]
  },
  {
   "cell_type": "code",
   "execution_count": 58,
   "metadata": {},
   "outputs": [
    {
     "name": "stdout",
     "output_type": "stream",
     "text": [
      "is_weekend      0    1\n",
      "lead_volume           \n",
      "high         1218  495\n",
      "medium       1252  524\n"
     ]
    }
   ],
   "source": [
    "from scipy import stats\n",
    "crosstab = pd.crosstab(data['lead_volume'], data['is_weekend'])\n",
    "print(crosstab)"
   ]
  },
  {
   "cell_type": "code",
   "execution_count": 59,
   "metadata": {},
   "outputs": [
    {
     "name": "stdout",
     "output_type": "stream",
     "text": [
      "dof=1\n",
      "[[1212.69991402  500.30008598]\n",
      " [1257.30008598  518.69991402]]\n",
      "significance=0.050, p=0.721\n",
      "Independent (fail to reject H0)\n"
     ]
    }
   ],
   "source": [
    "from scipy.stats import chi2_contingency\n",
    "from scipy.stats import chi2\n",
    "stat, p, dof, expected = stats.chi2_contingency(crosstab)\n",
    "print('dof=%d' % dof)\n",
    "print(expected)\n",
    "# interpret test-statistic\n",
    "prob = 0.95\n",
    "alpha = 1.0 - prob\n",
    "print('significance=%.3f, p=%.3f' % (alpha, p))\n",
    "if p <= alpha:\n",
    "    print('Dependent (reject H0)')\n",
    "else:\n",
    "    print('Independent (fail to reject H0)')"
   ]
  },
  {
   "cell_type": "markdown",
   "metadata": {},
   "source": [
    "#### Building model to check the importance of various features on subscription level"
   ]
  },
  {
   "cell_type": "code",
   "execution_count": 60,
   "metadata": {},
   "outputs": [],
   "source": [
    "train=data.copy()\n",
    "train['subscription_level'] = pd.Categorical(train.subscription_level)\n",
    "train['building_type'] = pd.Categorical(train.building_type)\n",
    "train['vacancy_level'] = pd.Categorical(train.vacancy_level)\n",
    "train['has_online_tour'] = pd.Categorical(train.has_online_tour)\n",
    "train['photo_quality'] = pd.Categorical(train.photo_quality)\n",
    "train['lead_volume'] = pd.Categorical(train.lead_volume)\n",
    "\n",
    "\n",
    "from sklearn.preprocessing import LabelEncoder\n",
    "\n",
    "# creating an encoder\n",
    "le = LabelEncoder()\n",
    "train['building_type']=le.fit_transform(train['building_type'])\n",
    "train['vacancy_level']=le.fit_transform(train['vacancy_level'])\n",
    "train['has_online_tour']=le.fit_transform(train['has_online_tour'])\n",
    "train['photo_quality']=le.fit_transform(train['photo_quality'])\n",
    "train['lead_volume']=le.fit_transform(train['lead_volume'])\n",
    "train['dayofweek_name'] = le.fit_transform(train['dayofweek_name'])\n",
    "\n",
    "train=train.drop('sign_up_date', axis=1)\n",
    "X_initial = train.drop('subscription_level', axis=1)\n",
    "X = X_initial.values\n",
    "y = train['subscription_level'].values"
   ]
  },
  {
   "cell_type": "code",
   "execution_count": 61,
   "metadata": {},
   "outputs": [
    {
     "name": "stdout",
     "output_type": "stream",
     "text": [
      "Counter({'Level9': 386, 'Level3': 371, 'Level2': 357, 'Level5': 350, 'Level7': 347, 'Level1': 346, 'Level10': 335, 'Level6': 334, 'Level8': 331, 'Level4': 329, 'NA': 3})\n"
     ]
    }
   ],
   "source": [
    "##Check the distribution of data in various subscription level\n",
    "from collections import Counter\n",
    "counter = Counter(y)\n",
    "print(counter)"
   ]
  },
  {
   "cell_type": "code",
   "execution_count": 62,
   "metadata": {},
   "outputs": [],
   "source": [
    "#Split the data into train and test\n",
    "X_train, X_test, y_train, y_test = train_test_split(X, y, test_size=0.05, random_state=0)"
   ]
  },
  {
   "cell_type": "code",
   "execution_count": 63,
   "metadata": {},
   "outputs": [
    {
     "data": {
      "text/html": [
       "<div>\n",
       "<style scoped>\n",
       "    .dataframe tbody tr th:only-of-type {\n",
       "        vertical-align: middle;\n",
       "    }\n",
       "\n",
       "    .dataframe tbody tr th {\n",
       "        vertical-align: top;\n",
       "    }\n",
       "\n",
       "    .dataframe thead th {\n",
       "        text-align: right;\n",
       "    }\n",
       "</style>\n",
       "<table border=\"1\" class=\"dataframe\">\n",
       "  <thead>\n",
       "    <tr style=\"text-align: right;\">\n",
       "      <th></th>\n",
       "      <th>importance</th>\n",
       "    </tr>\n",
       "  </thead>\n",
       "  <tbody>\n",
       "    <tr>\n",
       "      <th>city_id</th>\n",
       "      <td>0.244285</td>\n",
       "    </tr>\n",
       "    <tr>\n",
       "      <th>day</th>\n",
       "      <td>0.193664</td>\n",
       "    </tr>\n",
       "    <tr>\n",
       "      <th>month_of_date</th>\n",
       "      <td>0.169251</td>\n",
       "    </tr>\n",
       "    <tr>\n",
       "      <th>dayofweek_name</th>\n",
       "      <td>0.108876</td>\n",
       "    </tr>\n",
       "    <tr>\n",
       "      <th>year_of_date</th>\n",
       "      <td>0.082003</td>\n",
       "    </tr>\n",
       "    <tr>\n",
       "      <th>building_type</th>\n",
       "      <td>0.045439</td>\n",
       "    </tr>\n",
       "    <tr>\n",
       "      <th>photo_quality</th>\n",
       "      <td>0.044490</td>\n",
       "    </tr>\n",
       "    <tr>\n",
       "      <th>lead_volume</th>\n",
       "      <td>0.041432</td>\n",
       "    </tr>\n",
       "    <tr>\n",
       "      <th>has_online_tour</th>\n",
       "      <td>0.025937</td>\n",
       "    </tr>\n",
       "    <tr>\n",
       "      <th>is_weekend</th>\n",
       "      <td>0.024329</td>\n",
       "    </tr>\n",
       "    <tr>\n",
       "      <th>vacancy_level</th>\n",
       "      <td>0.020294</td>\n",
       "    </tr>\n",
       "  </tbody>\n",
       "</table>\n",
       "</div>"
      ],
      "text/plain": [
       "                 importance\n",
       "city_id            0.244285\n",
       "day                0.193664\n",
       "month_of_date      0.169251\n",
       "dayofweek_name     0.108876\n",
       "year_of_date       0.082003\n",
       "building_type      0.045439\n",
       "photo_quality      0.044490\n",
       "lead_volume        0.041432\n",
       "has_online_tour    0.025937\n",
       "is_weekend         0.024329\n",
       "vacancy_level      0.020294"
      ]
     },
     "execution_count": 63,
     "metadata": {},
     "output_type": "execute_result"
    }
   ],
   "source": [
    "from sklearn.ensemble import RandomForestClassifier\n",
    "clf = RandomForestClassifier(n_estimators = 100) \n",
    " \n",
    "# Training the Random Forest model on the training dataset\n",
    "# fit function is used to train the model using the training sets as parameters\n",
    "clf.fit(X_train, y_train)\n",
    "feature_importances = pd.DataFrame(clf.feature_importances_,index = X_initial.columns,\n",
    "columns=['importance']).sort_values('importance', ascending=False)\n",
    "feature_importances"
   ]
  },
  {
   "cell_type": "markdown",
   "metadata": {},
   "source": [
    "So the important features to consider while taking subscription level as a target variable are presented in the descending order"
   ]
  },
  {
   "cell_type": "code",
   "execution_count": null,
   "metadata": {},
   "outputs": [],
   "source": []
  }
 ],
 "metadata": {
  "kernelspec": {
   "display_name": "Python 3",
   "language": "python",
   "name": "python3"
  },
  "language_info": {
   "codemirror_mode": {
    "name": "ipython",
    "version": 3
   },
   "file_extension": ".py",
   "mimetype": "text/x-python",
   "name": "python",
   "nbconvert_exporter": "python",
   "pygments_lexer": "ipython3",
   "version": "3.8.5"
  }
 },
 "nbformat": 4,
 "nbformat_minor": 4
}
